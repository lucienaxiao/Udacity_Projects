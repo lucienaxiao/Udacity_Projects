{
 "cells": [
  {
   "cell_type": "markdown",
   "metadata": {},
   "source": [
    "# Project: Identify Customer Segments\n",
    "\n",
    "In this project, you will apply unsupervised learning techniques to identify segments of the population that form the core customer base for a mail-order sales company in Germany. These segments can then be used to direct marketing campaigns towards audiences that will have the highest expected rate of returns. The data that you will use has been provided by our partners at Bertelsmann Arvato Analytics, and represents a real-life data science task.\n",
    "\n",
    "This notebook will help you complete this task by providing a framework within which you will perform your analysis steps. In each step of the project, you will see some text describing the subtask that you will perform, followed by one or more code cells for you to complete your work. **Feel free to add additional code and markdown cells as you go along so that you can explore everything in precise chunks.** The code cells provided in the base template will outline only the major tasks, and will usually not be enough to cover all of the minor tasks that comprise it.\n",
    "\n",
    "It should be noted that while there will be precise guidelines on how you should handle certain tasks in the project, there will also be places where an exact specification is not provided. **There will be times in the project where you will need to make and justify your own decisions on how to treat the data.** These are places where there may not be only one way to handle the data. In real-life tasks, there may be many valid ways to approach an analysis task. One of the most important things you can do is clearly document your approach so that other scientists can understand the decisions you've made.\n",
    "\n",
    "At the end of most sections, there will be a Markdown cell labeled **Discussion**. In these cells, you will report your findings for the completed section, as well as document the decisions that you made in your approach to each subtask. **Your project will be evaluated not just on the code used to complete the tasks outlined, but also your communication about your observations and conclusions at each stage.**"
   ]
  },
  {
   "cell_type": "code",
   "execution_count": 2,
   "metadata": {},
   "outputs": [
    {
     "data": {
      "text/plain": [
       "'\\nImport note: The classroom currently uses sklearn version 0.19.\\nIf you need to use an imputer, it is available in sklearn.preprocessing.Imputer,\\ninstead of sklearn.impute as in newer versions of sklearn.\\n'"
      ]
     },
     "execution_count": 2,
     "metadata": {},
     "output_type": "execute_result"
    }
   ],
   "source": [
    "# import libraries here; add more as necessary\n",
    "import numpy as np\n",
    "import pandas as pd\n",
    "import matplotlib.pyplot as plt\n",
    "import seaborn as sns\n",
    "\n",
    "# magic word for producing visualizations in notebook\n",
    "%matplotlib inline\n",
    "\n",
    "'''\n",
    "Import note: The classroom currently uses sklearn version 0.19.\n",
    "If you need to use an imputer, it is available in sklearn.preprocessing.Imputer,\n",
    "instead of sklearn.impute as in newer versions of sklearn.\n",
    "'''"
   ]
  },
  {
   "cell_type": "markdown",
   "metadata": {},
   "source": [
    "### Step 0: Load the Data\n",
    "\n",
    "There are four files associated with this project (not including this one):\n",
    "\n",
    "- `Udacity_AZDIAS_Subset.csv`: Demographics data for the general population of Germany; 891211 persons (rows) x 85 features (columns).\n",
    "- `Udacity_CUSTOMERS_Subset.csv`: Demographics data for customers of a mail-order company; 191652 persons (rows) x 85 features (columns).\n",
    "- `Data_Dictionary.md`: Detailed information file about the features in the provided datasets.\n",
    "- `AZDIAS_Feature_Summary.csv`: Summary of feature attributes for demographics data; 85 features (rows) x 4 columns\n",
    "\n",
    "Each row of the demographics files represents a single person, but also includes information outside of individuals, including information about their household, building, and neighborhood. You will use this information to cluster the general population into groups with similar demographic properties. Then, you will see how the people in the customers dataset fit into those created clusters. The hope here is that certain clusters are over-represented in the customers data, as compared to the general population; those over-represented clusters will be assumed to be part of the core userbase. This information can then be used for further applications, such as targeting for a marketing campaign.\n",
    "\n",
    "To start off with, load in the demographics data for the general population into a pandas DataFrame, and do the same for the feature attributes summary. Note for all of the `.csv` data files in this project: they're semicolon (`;`) delimited, so you'll need an additional argument in your [`read_csv()`](https://pandas.pydata.org/pandas-docs/stable/generated/pandas.read_csv.html) call to read in the data properly. Also, considering the size of the main dataset, it may take some time for it to load completely.\n",
    "\n",
    "Once the dataset is loaded, it's recommended that you take a little bit of time just browsing the general structure of the dataset and feature summary file. You'll be getting deep into the innards of the cleaning in the first major step of the project, so gaining some general familiarity can help you get your bearings."
   ]
  },
  {
   "cell_type": "code",
   "execution_count": 3,
   "metadata": {},
   "outputs": [],
   "source": [
    "# Load in the general demographics data.\n",
    "azdias = pd.read_csv('Udacity_AZDIAS_Subset.csv', sep=';')\n",
    "\n",
    "# Load in the feature summary file.\n",
    "feat_info = pd.read_csv('AZDIAS_Feature_Summary.csv', sep=';')"
   ]
  },
  {
   "cell_type": "code",
   "execution_count": 4,
   "metadata": {},
   "outputs": [
    {
     "data": {
      "text/plain": [
       "((891221, 85), (85, 4))"
      ]
     },
     "execution_count": 4,
     "metadata": {},
     "output_type": "execute_result"
    }
   ],
   "source": [
    "# Check the structure of the data after it's loaded (e.g. print the number of\n",
    "# rows and columns, print the first few rows).\n",
    "azdias.shape, feat_info.shape"
   ]
  },
  {
   "cell_type": "code",
   "execution_count": 5,
   "metadata": {},
   "outputs": [
    {
     "data": {
      "text/html": [
       "<div>\n",
       "<style scoped>\n",
       "    .dataframe tbody tr th:only-of-type {\n",
       "        vertical-align: middle;\n",
       "    }\n",
       "\n",
       "    .dataframe tbody tr th {\n",
       "        vertical-align: top;\n",
       "    }\n",
       "\n",
       "    .dataframe thead th {\n",
       "        text-align: right;\n",
       "    }\n",
       "</style>\n",
       "<table border=\"1\" class=\"dataframe\">\n",
       "  <thead>\n",
       "    <tr style=\"text-align: right;\">\n",
       "      <th></th>\n",
       "      <th>AGER_TYP</th>\n",
       "      <th>ALTERSKATEGORIE_GROB</th>\n",
       "      <th>ANREDE_KZ</th>\n",
       "      <th>CJT_GESAMTTYP</th>\n",
       "      <th>FINANZ_MINIMALIST</th>\n",
       "      <th>FINANZ_SPARER</th>\n",
       "      <th>FINANZ_VORSORGER</th>\n",
       "      <th>FINANZ_ANLEGER</th>\n",
       "      <th>FINANZ_UNAUFFAELLIGER</th>\n",
       "      <th>FINANZ_HAUSBAUER</th>\n",
       "      <th>...</th>\n",
       "      <th>PLZ8_ANTG1</th>\n",
       "      <th>PLZ8_ANTG2</th>\n",
       "      <th>PLZ8_ANTG3</th>\n",
       "      <th>PLZ8_ANTG4</th>\n",
       "      <th>PLZ8_BAUMAX</th>\n",
       "      <th>PLZ8_HHZ</th>\n",
       "      <th>PLZ8_GBZ</th>\n",
       "      <th>ARBEIT</th>\n",
       "      <th>ORTSGR_KLS9</th>\n",
       "      <th>RELAT_AB</th>\n",
       "    </tr>\n",
       "  </thead>\n",
       "  <tbody>\n",
       "    <tr>\n",
       "      <th>0</th>\n",
       "      <td>-1</td>\n",
       "      <td>2</td>\n",
       "      <td>1</td>\n",
       "      <td>2.0</td>\n",
       "      <td>3</td>\n",
       "      <td>4</td>\n",
       "      <td>3</td>\n",
       "      <td>5</td>\n",
       "      <td>5</td>\n",
       "      <td>3</td>\n",
       "      <td>...</td>\n",
       "      <td>NaN</td>\n",
       "      <td>NaN</td>\n",
       "      <td>NaN</td>\n",
       "      <td>NaN</td>\n",
       "      <td>NaN</td>\n",
       "      <td>NaN</td>\n",
       "      <td>NaN</td>\n",
       "      <td>NaN</td>\n",
       "      <td>NaN</td>\n",
       "      <td>NaN</td>\n",
       "    </tr>\n",
       "    <tr>\n",
       "      <th>1</th>\n",
       "      <td>-1</td>\n",
       "      <td>1</td>\n",
       "      <td>2</td>\n",
       "      <td>5.0</td>\n",
       "      <td>1</td>\n",
       "      <td>5</td>\n",
       "      <td>2</td>\n",
       "      <td>5</td>\n",
       "      <td>4</td>\n",
       "      <td>5</td>\n",
       "      <td>...</td>\n",
       "      <td>2.0</td>\n",
       "      <td>3.0</td>\n",
       "      <td>2.0</td>\n",
       "      <td>1.0</td>\n",
       "      <td>1.0</td>\n",
       "      <td>5.0</td>\n",
       "      <td>4.0</td>\n",
       "      <td>3.0</td>\n",
       "      <td>5.0</td>\n",
       "      <td>4.0</td>\n",
       "    </tr>\n",
       "    <tr>\n",
       "      <th>2</th>\n",
       "      <td>-1</td>\n",
       "      <td>3</td>\n",
       "      <td>2</td>\n",
       "      <td>3.0</td>\n",
       "      <td>1</td>\n",
       "      <td>4</td>\n",
       "      <td>1</td>\n",
       "      <td>2</td>\n",
       "      <td>3</td>\n",
       "      <td>5</td>\n",
       "      <td>...</td>\n",
       "      <td>3.0</td>\n",
       "      <td>3.0</td>\n",
       "      <td>1.0</td>\n",
       "      <td>0.0</td>\n",
       "      <td>1.0</td>\n",
       "      <td>4.0</td>\n",
       "      <td>4.0</td>\n",
       "      <td>3.0</td>\n",
       "      <td>5.0</td>\n",
       "      <td>2.0</td>\n",
       "    </tr>\n",
       "    <tr>\n",
       "      <th>3</th>\n",
       "      <td>2</td>\n",
       "      <td>4</td>\n",
       "      <td>2</td>\n",
       "      <td>2.0</td>\n",
       "      <td>4</td>\n",
       "      <td>2</td>\n",
       "      <td>5</td>\n",
       "      <td>2</td>\n",
       "      <td>1</td>\n",
       "      <td>2</td>\n",
       "      <td>...</td>\n",
       "      <td>2.0</td>\n",
       "      <td>2.0</td>\n",
       "      <td>2.0</td>\n",
       "      <td>0.0</td>\n",
       "      <td>1.0</td>\n",
       "      <td>3.0</td>\n",
       "      <td>4.0</td>\n",
       "      <td>2.0</td>\n",
       "      <td>3.0</td>\n",
       "      <td>3.0</td>\n",
       "    </tr>\n",
       "    <tr>\n",
       "      <th>4</th>\n",
       "      <td>-1</td>\n",
       "      <td>3</td>\n",
       "      <td>1</td>\n",
       "      <td>5.0</td>\n",
       "      <td>4</td>\n",
       "      <td>3</td>\n",
       "      <td>4</td>\n",
       "      <td>1</td>\n",
       "      <td>3</td>\n",
       "      <td>2</td>\n",
       "      <td>...</td>\n",
       "      <td>2.0</td>\n",
       "      <td>4.0</td>\n",
       "      <td>2.0</td>\n",
       "      <td>1.0</td>\n",
       "      <td>2.0</td>\n",
       "      <td>3.0</td>\n",
       "      <td>3.0</td>\n",
       "      <td>4.0</td>\n",
       "      <td>6.0</td>\n",
       "      <td>5.0</td>\n",
       "    </tr>\n",
       "  </tbody>\n",
       "</table>\n",
       "<p>5 rows × 85 columns</p>\n",
       "</div>"
      ],
      "text/plain": [
       "   AGER_TYP  ALTERSKATEGORIE_GROB  ANREDE_KZ  CJT_GESAMTTYP  \\\n",
       "0        -1                     2          1            2.0   \n",
       "1        -1                     1          2            5.0   \n",
       "2        -1                     3          2            3.0   \n",
       "3         2                     4          2            2.0   \n",
       "4        -1                     3          1            5.0   \n",
       "\n",
       "   FINANZ_MINIMALIST  FINANZ_SPARER  FINANZ_VORSORGER  FINANZ_ANLEGER  \\\n",
       "0                  3              4                 3               5   \n",
       "1                  1              5                 2               5   \n",
       "2                  1              4                 1               2   \n",
       "3                  4              2                 5               2   \n",
       "4                  4              3                 4               1   \n",
       "\n",
       "   FINANZ_UNAUFFAELLIGER  FINANZ_HAUSBAUER    ...     PLZ8_ANTG1  PLZ8_ANTG2  \\\n",
       "0                      5                 3    ...            NaN         NaN   \n",
       "1                      4                 5    ...            2.0         3.0   \n",
       "2                      3                 5    ...            3.0         3.0   \n",
       "3                      1                 2    ...            2.0         2.0   \n",
       "4                      3                 2    ...            2.0         4.0   \n",
       "\n",
       "   PLZ8_ANTG3  PLZ8_ANTG4  PLZ8_BAUMAX  PLZ8_HHZ  PLZ8_GBZ  ARBEIT  \\\n",
       "0         NaN         NaN          NaN       NaN       NaN     NaN   \n",
       "1         2.0         1.0          1.0       5.0       4.0     3.0   \n",
       "2         1.0         0.0          1.0       4.0       4.0     3.0   \n",
       "3         2.0         0.0          1.0       3.0       4.0     2.0   \n",
       "4         2.0         1.0          2.0       3.0       3.0     4.0   \n",
       "\n",
       "   ORTSGR_KLS9  RELAT_AB  \n",
       "0          NaN       NaN  \n",
       "1          5.0       4.0  \n",
       "2          5.0       2.0  \n",
       "3          3.0       3.0  \n",
       "4          6.0       5.0  \n",
       "\n",
       "[5 rows x 85 columns]"
      ]
     },
     "execution_count": 5,
     "metadata": {},
     "output_type": "execute_result"
    }
   ],
   "source": [
    "azdias.head()"
   ]
  },
  {
   "cell_type": "code",
   "execution_count": 6,
   "metadata": {
    "scrolled": true
   },
   "outputs": [
    {
     "data": {
      "text/html": [
       "<div>\n",
       "<style scoped>\n",
       "    .dataframe tbody tr th:only-of-type {\n",
       "        vertical-align: middle;\n",
       "    }\n",
       "\n",
       "    .dataframe tbody tr th {\n",
       "        vertical-align: top;\n",
       "    }\n",
       "\n",
       "    .dataframe thead th {\n",
       "        text-align: right;\n",
       "    }\n",
       "</style>\n",
       "<table border=\"1\" class=\"dataframe\">\n",
       "  <thead>\n",
       "    <tr style=\"text-align: right;\">\n",
       "      <th></th>\n",
       "      <th>AGER_TYP</th>\n",
       "      <th>ALTERSKATEGORIE_GROB</th>\n",
       "      <th>ANREDE_KZ</th>\n",
       "      <th>CJT_GESAMTTYP</th>\n",
       "      <th>FINANZ_MINIMALIST</th>\n",
       "      <th>FINANZ_SPARER</th>\n",
       "      <th>FINANZ_VORSORGER</th>\n",
       "      <th>FINANZ_ANLEGER</th>\n",
       "      <th>FINANZ_UNAUFFAELLIGER</th>\n",
       "      <th>FINANZ_HAUSBAUER</th>\n",
       "      <th>...</th>\n",
       "      <th>PLZ8_ANTG1</th>\n",
       "      <th>PLZ8_ANTG2</th>\n",
       "      <th>PLZ8_ANTG3</th>\n",
       "      <th>PLZ8_ANTG4</th>\n",
       "      <th>PLZ8_BAUMAX</th>\n",
       "      <th>PLZ8_HHZ</th>\n",
       "      <th>PLZ8_GBZ</th>\n",
       "      <th>ARBEIT</th>\n",
       "      <th>ORTSGR_KLS9</th>\n",
       "      <th>RELAT_AB</th>\n",
       "    </tr>\n",
       "  </thead>\n",
       "  <tbody>\n",
       "    <tr>\n",
       "      <th>count</th>\n",
       "      <td>891221.000000</td>\n",
       "      <td>891221.000000</td>\n",
       "      <td>891221.000000</td>\n",
       "      <td>886367.000000</td>\n",
       "      <td>891221.000000</td>\n",
       "      <td>891221.000000</td>\n",
       "      <td>891221.000000</td>\n",
       "      <td>891221.000000</td>\n",
       "      <td>891221.000000</td>\n",
       "      <td>891221.000000</td>\n",
       "      <td>...</td>\n",
       "      <td>774706.000000</td>\n",
       "      <td>774706.000000</td>\n",
       "      <td>774706.000000</td>\n",
       "      <td>774706.000000</td>\n",
       "      <td>774706.000000</td>\n",
       "      <td>774706.000000</td>\n",
       "      <td>774706.000000</td>\n",
       "      <td>794005.000000</td>\n",
       "      <td>794005.000000</td>\n",
       "      <td>794005.00000</td>\n",
       "    </tr>\n",
       "    <tr>\n",
       "      <th>mean</th>\n",
       "      <td>-0.358435</td>\n",
       "      <td>2.777398</td>\n",
       "      <td>1.522098</td>\n",
       "      <td>3.632838</td>\n",
       "      <td>3.074528</td>\n",
       "      <td>2.821039</td>\n",
       "      <td>3.401106</td>\n",
       "      <td>3.033328</td>\n",
       "      <td>2.874167</td>\n",
       "      <td>3.075121</td>\n",
       "      <td>...</td>\n",
       "      <td>2.253330</td>\n",
       "      <td>2.801858</td>\n",
       "      <td>1.595426</td>\n",
       "      <td>0.699166</td>\n",
       "      <td>1.943913</td>\n",
       "      <td>3.612821</td>\n",
       "      <td>3.381087</td>\n",
       "      <td>3.167854</td>\n",
       "      <td>5.293002</td>\n",
       "      <td>3.07222</td>\n",
       "    </tr>\n",
       "    <tr>\n",
       "      <th>std</th>\n",
       "      <td>1.198724</td>\n",
       "      <td>1.068775</td>\n",
       "      <td>0.499512</td>\n",
       "      <td>1.595021</td>\n",
       "      <td>1.321055</td>\n",
       "      <td>1.464749</td>\n",
       "      <td>1.322134</td>\n",
       "      <td>1.529603</td>\n",
       "      <td>1.486731</td>\n",
       "      <td>1.353248</td>\n",
       "      <td>...</td>\n",
       "      <td>0.972008</td>\n",
       "      <td>0.920309</td>\n",
       "      <td>0.986736</td>\n",
       "      <td>0.727137</td>\n",
       "      <td>1.459654</td>\n",
       "      <td>0.973967</td>\n",
       "      <td>1.111598</td>\n",
       "      <td>1.002376</td>\n",
       "      <td>2.303739</td>\n",
       "      <td>1.36298</td>\n",
       "    </tr>\n",
       "    <tr>\n",
       "      <th>min</th>\n",
       "      <td>-1.000000</td>\n",
       "      <td>1.000000</td>\n",
       "      <td>1.000000</td>\n",
       "      <td>1.000000</td>\n",
       "      <td>1.000000</td>\n",
       "      <td>1.000000</td>\n",
       "      <td>1.000000</td>\n",
       "      <td>1.000000</td>\n",
       "      <td>1.000000</td>\n",
       "      <td>1.000000</td>\n",
       "      <td>...</td>\n",
       "      <td>0.000000</td>\n",
       "      <td>0.000000</td>\n",
       "      <td>0.000000</td>\n",
       "      <td>0.000000</td>\n",
       "      <td>1.000000</td>\n",
       "      <td>1.000000</td>\n",
       "      <td>1.000000</td>\n",
       "      <td>1.000000</td>\n",
       "      <td>0.000000</td>\n",
       "      <td>1.00000</td>\n",
       "    </tr>\n",
       "    <tr>\n",
       "      <th>25%</th>\n",
       "      <td>-1.000000</td>\n",
       "      <td>2.000000</td>\n",
       "      <td>1.000000</td>\n",
       "      <td>2.000000</td>\n",
       "      <td>2.000000</td>\n",
       "      <td>1.000000</td>\n",
       "      <td>3.000000</td>\n",
       "      <td>2.000000</td>\n",
       "      <td>2.000000</td>\n",
       "      <td>2.000000</td>\n",
       "      <td>...</td>\n",
       "      <td>1.000000</td>\n",
       "      <td>2.000000</td>\n",
       "      <td>1.000000</td>\n",
       "      <td>0.000000</td>\n",
       "      <td>1.000000</td>\n",
       "      <td>3.000000</td>\n",
       "      <td>3.000000</td>\n",
       "      <td>3.000000</td>\n",
       "      <td>4.000000</td>\n",
       "      <td>2.00000</td>\n",
       "    </tr>\n",
       "    <tr>\n",
       "      <th>50%</th>\n",
       "      <td>-1.000000</td>\n",
       "      <td>3.000000</td>\n",
       "      <td>2.000000</td>\n",
       "      <td>4.000000</td>\n",
       "      <td>3.000000</td>\n",
       "      <td>3.000000</td>\n",
       "      <td>3.000000</td>\n",
       "      <td>3.000000</td>\n",
       "      <td>3.000000</td>\n",
       "      <td>3.000000</td>\n",
       "      <td>...</td>\n",
       "      <td>2.000000</td>\n",
       "      <td>3.000000</td>\n",
       "      <td>2.000000</td>\n",
       "      <td>1.000000</td>\n",
       "      <td>1.000000</td>\n",
       "      <td>4.000000</td>\n",
       "      <td>3.000000</td>\n",
       "      <td>3.000000</td>\n",
       "      <td>5.000000</td>\n",
       "      <td>3.00000</td>\n",
       "    </tr>\n",
       "    <tr>\n",
       "      <th>75%</th>\n",
       "      <td>-1.000000</td>\n",
       "      <td>4.000000</td>\n",
       "      <td>2.000000</td>\n",
       "      <td>5.000000</td>\n",
       "      <td>4.000000</td>\n",
       "      <td>4.000000</td>\n",
       "      <td>5.000000</td>\n",
       "      <td>5.000000</td>\n",
       "      <td>4.000000</td>\n",
       "      <td>4.000000</td>\n",
       "      <td>...</td>\n",
       "      <td>3.000000</td>\n",
       "      <td>3.000000</td>\n",
       "      <td>2.000000</td>\n",
       "      <td>1.000000</td>\n",
       "      <td>3.000000</td>\n",
       "      <td>4.000000</td>\n",
       "      <td>4.000000</td>\n",
       "      <td>4.000000</td>\n",
       "      <td>7.000000</td>\n",
       "      <td>4.00000</td>\n",
       "    </tr>\n",
       "    <tr>\n",
       "      <th>max</th>\n",
       "      <td>3.000000</td>\n",
       "      <td>9.000000</td>\n",
       "      <td>2.000000</td>\n",
       "      <td>6.000000</td>\n",
       "      <td>5.000000</td>\n",
       "      <td>5.000000</td>\n",
       "      <td>5.000000</td>\n",
       "      <td>5.000000</td>\n",
       "      <td>5.000000</td>\n",
       "      <td>5.000000</td>\n",
       "      <td>...</td>\n",
       "      <td>4.000000</td>\n",
       "      <td>4.000000</td>\n",
       "      <td>3.000000</td>\n",
       "      <td>2.000000</td>\n",
       "      <td>5.000000</td>\n",
       "      <td>5.000000</td>\n",
       "      <td>5.000000</td>\n",
       "      <td>9.000000</td>\n",
       "      <td>9.000000</td>\n",
       "      <td>9.00000</td>\n",
       "    </tr>\n",
       "  </tbody>\n",
       "</table>\n",
       "<p>8 rows × 81 columns</p>\n",
       "</div>"
      ],
      "text/plain": [
       "            AGER_TYP  ALTERSKATEGORIE_GROB      ANREDE_KZ  CJT_GESAMTTYP  \\\n",
       "count  891221.000000         891221.000000  891221.000000  886367.000000   \n",
       "mean       -0.358435              2.777398       1.522098       3.632838   \n",
       "std         1.198724              1.068775       0.499512       1.595021   \n",
       "min        -1.000000              1.000000       1.000000       1.000000   \n",
       "25%        -1.000000              2.000000       1.000000       2.000000   \n",
       "50%        -1.000000              3.000000       2.000000       4.000000   \n",
       "75%        -1.000000              4.000000       2.000000       5.000000   \n",
       "max         3.000000              9.000000       2.000000       6.000000   \n",
       "\n",
       "       FINANZ_MINIMALIST  FINANZ_SPARER  FINANZ_VORSORGER  FINANZ_ANLEGER  \\\n",
       "count      891221.000000  891221.000000     891221.000000   891221.000000   \n",
       "mean            3.074528       2.821039          3.401106        3.033328   \n",
       "std             1.321055       1.464749          1.322134        1.529603   \n",
       "min             1.000000       1.000000          1.000000        1.000000   \n",
       "25%             2.000000       1.000000          3.000000        2.000000   \n",
       "50%             3.000000       3.000000          3.000000        3.000000   \n",
       "75%             4.000000       4.000000          5.000000        5.000000   \n",
       "max             5.000000       5.000000          5.000000        5.000000   \n",
       "\n",
       "       FINANZ_UNAUFFAELLIGER  FINANZ_HAUSBAUER      ...          PLZ8_ANTG1  \\\n",
       "count          891221.000000     891221.000000      ...       774706.000000   \n",
       "mean                2.874167          3.075121      ...            2.253330   \n",
       "std                 1.486731          1.353248      ...            0.972008   \n",
       "min                 1.000000          1.000000      ...            0.000000   \n",
       "25%                 2.000000          2.000000      ...            1.000000   \n",
       "50%                 3.000000          3.000000      ...            2.000000   \n",
       "75%                 4.000000          4.000000      ...            3.000000   \n",
       "max                 5.000000          5.000000      ...            4.000000   \n",
       "\n",
       "          PLZ8_ANTG2     PLZ8_ANTG3     PLZ8_ANTG4    PLZ8_BAUMAX  \\\n",
       "count  774706.000000  774706.000000  774706.000000  774706.000000   \n",
       "mean        2.801858       1.595426       0.699166       1.943913   \n",
       "std         0.920309       0.986736       0.727137       1.459654   \n",
       "min         0.000000       0.000000       0.000000       1.000000   \n",
       "25%         2.000000       1.000000       0.000000       1.000000   \n",
       "50%         3.000000       2.000000       1.000000       1.000000   \n",
       "75%         3.000000       2.000000       1.000000       3.000000   \n",
       "max         4.000000       3.000000       2.000000       5.000000   \n",
       "\n",
       "            PLZ8_HHZ       PLZ8_GBZ         ARBEIT    ORTSGR_KLS9  \\\n",
       "count  774706.000000  774706.000000  794005.000000  794005.000000   \n",
       "mean        3.612821       3.381087       3.167854       5.293002   \n",
       "std         0.973967       1.111598       1.002376       2.303739   \n",
       "min         1.000000       1.000000       1.000000       0.000000   \n",
       "25%         3.000000       3.000000       3.000000       4.000000   \n",
       "50%         4.000000       3.000000       3.000000       5.000000   \n",
       "75%         4.000000       4.000000       4.000000       7.000000   \n",
       "max         5.000000       5.000000       9.000000       9.000000   \n",
       "\n",
       "           RELAT_AB  \n",
       "count  794005.00000  \n",
       "mean        3.07222  \n",
       "std         1.36298  \n",
       "min         1.00000  \n",
       "25%         2.00000  \n",
       "50%         3.00000  \n",
       "75%         4.00000  \n",
       "max         9.00000  \n",
       "\n",
       "[8 rows x 81 columns]"
      ]
     },
     "execution_count": 6,
     "metadata": {},
     "output_type": "execute_result"
    }
   ],
   "source": [
    "azdias.describe()"
   ]
  },
  {
   "cell_type": "code",
   "execution_count": 13,
   "metadata": {},
   "outputs": [
    {
     "data": {
      "text/html": [
       "<div>\n",
       "<style scoped>\n",
       "    .dataframe tbody tr th:only-of-type {\n",
       "        vertical-align: middle;\n",
       "    }\n",
       "\n",
       "    .dataframe tbody tr th {\n",
       "        vertical-align: top;\n",
       "    }\n",
       "\n",
       "    .dataframe thead th {\n",
       "        text-align: right;\n",
       "    }\n",
       "</style>\n",
       "<table border=\"1\" class=\"dataframe\">\n",
       "  <thead>\n",
       "    <tr style=\"text-align: right;\">\n",
       "      <th></th>\n",
       "      <th>attribute</th>\n",
       "      <th>information_level</th>\n",
       "      <th>type</th>\n",
       "      <th>missing_or_unknown</th>\n",
       "    </tr>\n",
       "  </thead>\n",
       "  <tbody>\n",
       "    <tr>\n",
       "      <th>0</th>\n",
       "      <td>AGER_TYP</td>\n",
       "      <td>person</td>\n",
       "      <td>categorical</td>\n",
       "      <td>[-1,0]</td>\n",
       "    </tr>\n",
       "    <tr>\n",
       "      <th>1</th>\n",
       "      <td>ALTERSKATEGORIE_GROB</td>\n",
       "      <td>person</td>\n",
       "      <td>ordinal</td>\n",
       "      <td>[-1,0,9]</td>\n",
       "    </tr>\n",
       "    <tr>\n",
       "      <th>2</th>\n",
       "      <td>ANREDE_KZ</td>\n",
       "      <td>person</td>\n",
       "      <td>categorical</td>\n",
       "      <td>[-1,0]</td>\n",
       "    </tr>\n",
       "    <tr>\n",
       "      <th>3</th>\n",
       "      <td>CJT_GESAMTTYP</td>\n",
       "      <td>person</td>\n",
       "      <td>categorical</td>\n",
       "      <td>[0]</td>\n",
       "    </tr>\n",
       "    <tr>\n",
       "      <th>4</th>\n",
       "      <td>FINANZ_MINIMALIST</td>\n",
       "      <td>person</td>\n",
       "      <td>ordinal</td>\n",
       "      <td>[-1]</td>\n",
       "    </tr>\n",
       "  </tbody>\n",
       "</table>\n",
       "</div>"
      ],
      "text/plain": [
       "              attribute information_level         type missing_or_unknown\n",
       "0              AGER_TYP            person  categorical             [-1,0]\n",
       "1  ALTERSKATEGORIE_GROB            person      ordinal           [-1,0,9]\n",
       "2             ANREDE_KZ            person  categorical             [-1,0]\n",
       "3         CJT_GESAMTTYP            person  categorical                [0]\n",
       "4     FINANZ_MINIMALIST            person      ordinal               [-1]"
      ]
     },
     "execution_count": 13,
     "metadata": {},
     "output_type": "execute_result"
    }
   ],
   "source": [
    "feat_info.head()"
   ]
  },
  {
   "cell_type": "code",
   "execution_count": 14,
   "metadata": {},
   "outputs": [
    {
     "data": {
      "text/plain": [
       "ordinal        49\n",
       "categorical    21\n",
       "numeric         7\n",
       "mixed           7\n",
       "interval        1\n",
       "Name: type, dtype: int64"
      ]
     },
     "execution_count": 14,
     "metadata": {},
     "output_type": "execute_result"
    }
   ],
   "source": [
    "feat_info['type'].value_counts()"
   ]
  },
  {
   "cell_type": "code",
   "execution_count": 24,
   "metadata": {},
   "outputs": [
    {
     "data": {
      "text/plain": [
       "[-1]        26\n",
       "[-1,9]      17\n",
       "[-1,0]      16\n",
       "[0]         12\n",
       "[]          10\n",
       "[-1,X]       1\n",
       "[-1,0,9]     1\n",
       "[-1,XX]      1\n",
       "[XX]         1\n",
       "Name: missing_or_unknown, dtype: int64"
      ]
     },
     "execution_count": 24,
     "metadata": {},
     "output_type": "execute_result"
    }
   ],
   "source": [
    "feat_info['missing_or_unknown'].value_counts()"
   ]
  },
  {
   "cell_type": "markdown",
   "metadata": {},
   "source": [
    "> **Tip**: Add additional cells to keep everything in reasonably-sized chunks! Keyboard shortcut `esc --> a` (press escape to enter command mode, then press the 'A' key) adds a new cell before the active cell, and `esc --> b` adds a new cell after the active cell. If you need to convert an active cell to a markdown cell, use `esc --> m` and to convert to a code cell, use `esc --> y`. \n",
    "\n",
    "## Step 1: Preprocessing\n",
    "\n",
    "### Step 1.1: Assess Missing Data\n",
    "\n",
    "The feature summary file contains a summary of properties for each demographics data column. You will use this file to help you make cleaning decisions during this stage of the project. First of all, you should assess the demographics data in terms of missing data. Pay attention to the following points as you perform your analysis, and take notes on what you observe. Make sure that you fill in the **Discussion** cell with your findings and decisions at the end of each step that has one!\n",
    "\n",
    "#### Step 1.1.1: Convert Missing Value Codes to NaNs\n",
    "The fourth column of the feature attributes summary (loaded in above as `feat_info`) documents the codes from the data dictionary that indicate missing or unknown data. While the file encodes this as a list (e.g. `[-1,0]`), this will get read in as a string object. You'll need to do a little bit of parsing to make use of it to identify and clean the data. Convert data that matches a 'missing' or 'unknown' value code into a numpy NaN value. You might want to see how much data takes on a 'missing' or 'unknown' code, and how much data is naturally missing, as a point of interest.\n",
    "\n",
    "**As one more reminder, you are encouraged to add additional cells to break up your analysis into manageable chunks.**"
   ]
  },
  {
   "cell_type": "code",
   "execution_count": 49,
   "metadata": {},
   "outputs": [
    {
     "data": {
      "text/plain": [
       "5575460"
      ]
     },
     "execution_count": 49,
     "metadata": {},
     "output_type": "execute_result"
    }
   ],
   "source": [
    "# Number of NaNs before replacement\n",
    "azdias.isnull().sum().sum()"
   ]
  },
  {
   "cell_type": "code",
   "execution_count": 5,
   "metadata": {},
   "outputs": [],
   "source": [
    "# Identify missing or unknown data values and convert them to NaNs.\n",
    "for i in range(feat_info.shape[0]):\n",
    "    missing_values_indices = feat_info['missing_or_unknown'][i][1:-1].split(',')\n",
    "    for ind in missing_values_indices:\n",
    "        col_name = feat_info['attribute'][i]\n",
    "        if ind != 'XX' and ind != 'X' and ind != '':\n",
    "            azdias[col_name] = azdias[col_name].replace(int(ind), np.nan)\n",
    "        else: \n",
    "            azdias[col_name] = azdias[col_name].replace(ind, np.nan)"
   ]
  },
  {
   "cell_type": "code",
   "execution_count": 4,
   "metadata": {},
   "outputs": [
    {
     "data": {
      "text/plain": [
       "8373929"
      ]
     },
     "execution_count": 4,
     "metadata": {},
     "output_type": "execute_result"
    }
   ],
   "source": [
    "# Number of NaNs after replacement\n",
    "azdias.isnull().sum().sum()"
   ]
  },
  {
   "cell_type": "markdown",
   "metadata": {},
   "source": [
    "#### Step 1.1.2: Assess Missing Data in Each Column\n",
    "\n",
    "How much missing data is present in each column? There are a few columns that are outliers in terms of the proportion of values that are missing. You will want to use matplotlib's [`hist()`](https://matplotlib.org/api/_as_gen/matplotlib.pyplot.hist.html) function to visualize the distribution of missing value counts to find these columns. Identify and document these columns. While some of these columns might have justifications for keeping or re-encoding the data, for this project you should just remove them from the dataframe. (Feel free to make remarks about these outlier columns in the discussion, however!)\n",
    "\n",
    "For the remaining features, are there any patterns in which columns have, or share, missing data?"
   ]
  },
  {
   "cell_type": "code",
   "execution_count": 6,
   "metadata": {},
   "outputs": [
    {
     "data": {
      "text/plain": [
       "TITEL_KZ                 0.997576\n",
       "AGER_TYP                 0.769554\n",
       "KK_KUNDENTYP             0.655967\n",
       "KBA05_BAUMAX             0.534687\n",
       "GEBURTSJAHR              0.440203\n",
       "ALTER_HH                 0.348137\n",
       "REGIOTYP                 0.177357\n",
       "KKK                      0.177357\n",
       "W_KEIT_KIND_HH           0.166051\n",
       "KBA05_ANTG4              0.149597\n",
       "KBA05_GBZ                0.149597\n",
       "MOBI_REGIO               0.149597\n",
       "KBA05_ANTG1              0.149597\n",
       "KBA05_ANTG2              0.149597\n",
       "KBA05_ANTG3              0.149597\n",
       "PLZ8_GBZ                 0.130736\n",
       "PLZ8_HHZ                 0.130736\n",
       "PLZ8_BAUMAX              0.130736\n",
       "PLZ8_ANTG4               0.130736\n",
       "PLZ8_ANTG1               0.130736\n",
       "PLZ8_ANTG3               0.130736\n",
       "PLZ8_ANTG2               0.130736\n",
       "SHOPPER_TYP              0.124768\n",
       "VERS_TYP                 0.124768\n",
       "HEALTH_TYP               0.124768\n",
       "NATIONALITAET_KZ         0.121536\n",
       "PRAEGENDE_JUGENDJAHRE    0.121366\n",
       "KBA13_ANZAHL_PKW         0.118714\n",
       "ANZ_HAUSHALTE_AKTIV      0.111769\n",
       "CAMEO_INTL_2015          0.111479\n",
       "                           ...   \n",
       "RETOURTYP_BK_S           0.005446\n",
       "ONLINE_AFFINITAET        0.005446\n",
       "LP_STATUS_FEIN           0.005446\n",
       "LP_STATUS_GROB           0.005446\n",
       "GFK_URLAUBERTYP          0.005446\n",
       "ALTERSKATEGORIE_GROB     0.003233\n",
       "FINANZTYP                0.000000\n",
       "GREEN_AVANTGARDE         0.000000\n",
       "FINANZ_HAUSBAUER         0.000000\n",
       "FINANZ_UNAUFFAELLIGER    0.000000\n",
       "FINANZ_ANLEGER           0.000000\n",
       "FINANZ_SPARER            0.000000\n",
       "FINANZ_MINIMALIST        0.000000\n",
       "ANREDE_KZ                0.000000\n",
       "FINANZ_VORSORGER         0.000000\n",
       "SEMIO_FAM                0.000000\n",
       "SEMIO_SOZ                0.000000\n",
       "SEMIO_REL                0.000000\n",
       "SEMIO_MAT                0.000000\n",
       "SEMIO_VERT               0.000000\n",
       "SEMIO_LUST               0.000000\n",
       "SEMIO_ERL                0.000000\n",
       "SEMIO_KULT               0.000000\n",
       "SEMIO_RAT                0.000000\n",
       "SEMIO_KRIT               0.000000\n",
       "SEMIO_DOM                0.000000\n",
       "SEMIO_KAEM               0.000000\n",
       "SEMIO_PFLICHT            0.000000\n",
       "SEMIO_TRADV              0.000000\n",
       "ZABEOTYP                 0.000000\n",
       "Length: 85, dtype: float64"
      ]
     },
     "execution_count": 6,
     "metadata": {},
     "output_type": "execute_result"
    }
   ],
   "source": [
    "# Perform an assessment of how much missing data there is in each column of the\n",
    "# dataset.\n",
    "missing_values_precentage = azdias.isnull().sum().sort_values(ascending=False)/azdias.shape[0]\n",
    "missing_values_precentage"
   ]
  },
  {
   "cell_type": "code",
   "execution_count": 105,
   "metadata": {},
   "outputs": [
    {
     "data": {
      "image/png": "[encoded data removed]",
      "text/plain": [
       "<matplotlib.figure.Figure at 0x7f178a957160>"
      ]
     },
     "metadata": {
      "needs_background": "light"
     },
     "output_type": "display_data"
    }
   ],
   "source": [
    "# Investigate patterns in the amount of missing data in each column.\n",
    "missing_values_precentage.plot.box();"
   ]
  },
  {
   "cell_type": "code",
   "execution_count": 103,
   "metadata": {},
   "outputs": [
    {
     "data": {
      "image/png": "[encoded data removed]",
      "text/plain": [
       "<matplotlib.figure.Figure at 0x7f17a0beb748>"
      ]
     },
     "metadata": {
      "needs_background": "light"
     },
     "output_type": "display_data"
    }
   ],
   "source": [
    "missing_values_precentage[missing_values_precentage!=0].plot.bar(figsize=(14,8));"
   ]
  },
  {
   "cell_type": "code",
   "execution_count": 7,
   "metadata": {},
   "outputs": [],
   "source": [
    "# Remove the outlier columns from the dataset. (You'll perform other data\n",
    "# engineering tasks such as re-encoding and imputation later.)\n",
    "azdias = azdias.drop(missing_values_precentage[0:6].index, axis=1)\n",
    "feat_info = feat_info[~feat_info.attribute.isin(missing_values_precentage[0:6].index)]"
   ]
  },
  {
   "cell_type": "code",
   "execution_count": 8,
   "metadata": {},
   "outputs": [
    {
     "data": {
      "text/plain": [
       "((891221, 79), (79, 4))"
      ]
     },
     "execution_count": 8,
     "metadata": {},
     "output_type": "execute_result"
    }
   ],
   "source": [
    "azdias.shape, feat_info.shape"
   ]
  },
  {
   "cell_type": "markdown",
   "metadata": {},
   "source": [
    "#### Discussion 1.1.2: Assess Missing Data in Each Column\n",
    "\n",
    "From the boxplot above, we see that the six columns with the largest percentage of missing values are outliers in terms of how many values are missing. From the bar chart above, we can see that most columns have between 10% to 20% values missing. So I removed the six columns with the largest percentage of missing values."
   ]
  },
  {
   "cell_type": "markdown",
   "metadata": {},
   "source": [
    "#### Step 1.1.3: Assess Missing Data in Each Row\n",
    "\n",
    "Now, you'll perform a similar assessment for the rows of the dataset. How much data is missing in each row? As with the columns, you should see some groups of points that have a very different numbers of missing values. Divide the data into two subsets: one for data points that are above some threshold for missing values, and a second subset for points below that threshold.\n",
    "\n",
    "In order to know what to do with the outlier rows, we should see if the distribution of data values on columns that are not missing data (or are missing very little data) are similar or different between the two groups. Select at least five of these columns and compare the distribution of values.\n",
    "- You can use seaborn's [`countplot()`](https://seaborn.pydata.org/generated/seaborn.countplot.html) function to create a bar chart of code frequencies and matplotlib's [`subplot()`](https://matplotlib.org/api/_as_gen/matplotlib.pyplot.subplot.html) function to put bar charts for the two subplots side by side.\n",
    "- To reduce repeated code, you might want to write a function that can perform this comparison, taking as one of its arguments a column to be compared.\n",
    "\n",
    "Depending on what you observe in your comparison, this will have implications on how you approach your conclusions later in the analysis. If the distributions of non-missing features look similar between the data with many missing values and the data with few or no missing values, then we could argue that simply dropping those points from the analysis won't present a major issue. On the other hand, if the data with many missing values looks very different from the data with few or no missing values, then we should make a note on those data as special. We'll revisit these data later on. **Either way, you should continue your analysis for now using just the subset of the data with few or no missing values.**"
   ]
  },
  {
   "cell_type": "code",
   "execution_count": 9,
   "metadata": {},
   "outputs": [
    {
     "data": {
      "text/plain": [
       "643174    0.620253\n",
       "732775    0.620253\n",
       "472919    0.607595\n",
       "183108    0.594937\n",
       "139316    0.594937\n",
       "691141    0.594937\n",
       "691142    0.594937\n",
       "691171    0.594937\n",
       "691183    0.594937\n",
       "139332    0.594937\n",
       "691197    0.594937\n",
       "139323    0.594937\n",
       "691212    0.594937\n",
       "691122    0.594937\n",
       "139267    0.594937\n",
       "139255    0.594937\n",
       "139250    0.594937\n",
       "139248    0.594937\n",
       "139245    0.594937\n",
       "139243    0.594937\n",
       "691317    0.594937\n",
       "691129    0.594937\n",
       "691118    0.594937\n",
       "139236    0.594937\n",
       "139478    0.594937\n",
       "690871    0.594937\n",
       "690876    0.594937\n",
       "690878    0.594937\n",
       "690887    0.594937\n",
       "139521    0.594937\n",
       "            ...   \n",
       "540246    0.000000\n",
       "540244    0.000000\n",
       "540243    0.000000\n",
       "540242    0.000000\n",
       "540241    0.000000\n",
       "540240    0.000000\n",
       "540239    0.000000\n",
       "540269    0.000000\n",
       "540271    0.000000\n",
       "540300    0.000000\n",
       "540289    0.000000\n",
       "540299    0.000000\n",
       "540298    0.000000\n",
       "540296    0.000000\n",
       "540295    0.000000\n",
       "540293    0.000000\n",
       "540292    0.000000\n",
       "540291    0.000000\n",
       "540290    0.000000\n",
       "540287    0.000000\n",
       "540273    0.000000\n",
       "540286    0.000000\n",
       "540284    0.000000\n",
       "540283    0.000000\n",
       "540281    0.000000\n",
       "540280    0.000000\n",
       "540277    0.000000\n",
       "540275    0.000000\n",
       "540274    0.000000\n",
       "445610    0.000000\n",
       "Length: 891221, dtype: float64"
      ]
     },
     "execution_count": 9,
     "metadata": {},
     "output_type": "execute_result"
    }
   ],
   "source": [
    "# How much data is missing in each row of the dataset?\n",
    "missing_row_values = azdias.isnull().sum(axis=1).sort_values(ascending=False)/azdias.shape[1]\n",
    "missing_row_values"
   ]
  },
  {
   "cell_type": "code",
   "execution_count": 126,
   "metadata": {},
   "outputs": [
    {
     "name": "stdout",
     "output_type": "stream",
     "text": [
      "Percentage of rows with no missing values is:69.93%.\n"
     ]
    }
   ],
   "source": [
    "print('Percentage of rows with no missing values is:{:.2f}%.'.format(100 * len(missing_row_values[missing_row_values==0])/azdias.shape[0]))"
   ]
  },
  {
   "cell_type": "markdown",
   "metadata": {},
   "source": [
    "We see that about 70% of rows have no missing values. Let's check the distribution of rows with missing values."
   ]
  },
  {
   "cell_type": "code",
   "execution_count": 10,
   "metadata": {},
   "outputs": [
    {
     "data": {
      "image/png": "[encoded data removed]",
      "text/plain": [
       "<matplotlib.figure.Figure at 0x7f5f0fff9b00>"
      ]
     },
     "metadata": {
      "needs_background": "light"
     },
     "output_type": "display_data"
    }
   ],
   "source": [
    "missing_row_values_num = azdias.isnull().sum(axis=1)\n",
    "missing_row_values_num[missing_row_values_num!=0].plot.hist(bins=10);"
   ]
  },
  {
   "cell_type": "markdown",
   "metadata": {},
   "source": [
    "We see that the numbers of missing row values fall into two groups: at most 20 or more than 20. It seems to be reasonable to divide the data according to whether they have more than 20 missing values or not."
   ]
  },
  {
   "cell_type": "code",
   "execution_count": 11,
   "metadata": {},
   "outputs": [],
   "source": [
    "# Write code to divide the data into two subsets based on the number of missing\n",
    "# values in each row.\n",
    "azdias_low_nan_rows  = azdias[missing_row_values_num <= 20].copy()\n",
    "azdias_high_nan_rows  = azdias[missing_row_values_num > 20].copy()"
   ]
  },
  {
   "cell_type": "code",
   "execution_count": 11,
   "metadata": {},
   "outputs": [
    {
     "data": {
      "text/plain": [
       "True"
      ]
     },
     "execution_count": 11,
     "metadata": {},
     "output_type": "execute_result"
    }
   ],
   "source": [
    "# Make sure the data has been correctly divided.\n",
    "azdias_low_nan_rows.shape[0] + azdias_high_nan_rows.shape[0] == azdias.shape[0]"
   ]
  },
  {
   "cell_type": "code",
   "execution_count": 12,
   "metadata": {},
   "outputs": [],
   "source": [
    "# Compare the distribution of values for at least five columns where there are\n",
    "# no or few missing values, between the two subsets.\n",
    "azdias_no_nan_columns_low_nan_rows = azdias_low_nan_rows[azdias_low_nan_rows.columns[~azdias_low_nan_rows.isnull().all()]]\n",
    "azdias_no_nan_columns_high_nan_rows = azdias_high_nan_rows[azdias_high_nan_rows.columns[~azdias_high_nan_rows.isnull().all()]]"
   ]
  },
  {
   "cell_type": "code",
   "execution_count": 186,
   "metadata": {},
   "outputs": [
    {
     "data": {
      "text/plain": [
       "['ALTERSKATEGORIE_GROB',\n",
       " 'KONSUMNAEHE',\n",
       " 'KBA05_ANTG4',\n",
       " 'ONLINE_AFFINITAET',\n",
       " 'SEMIO_MAT']"
      ]
     },
     "execution_count": 186,
     "metadata": {},
     "output_type": "execute_result"
    }
   ],
   "source": [
    "# Pick 5 random samples from the columns with no missing values for both subsets\n",
    "import random\n",
    "rand_col = random.sample(set(azdias_no_nan_columns_low_nan_rows) & set(azdias_no_nan_columns_high_nan_rows), 5)\n",
    "rand_col"
   ]
  },
  {
   "cell_type": "code",
   "execution_count": 189,
   "metadata": {},
   "outputs": [
    {
     "data": {
      "image/png": "[encoded data removed]",
      "text/plain": [
       "<matplotlib.figure.Figure at 0x7f17a0925b38>"
      ]
     },
     "metadata": {
      "needs_background": "light"
     },
     "output_type": "display_data"
    },
    {
     "data": {
      "image/png": "[encoded data removed]",
      "text/plain": [
       "<matplotlib.figure.Figure at 0x7f17a08045f8>"
      ]
     },
     "metadata": {
      "needs_background": "light"
     },
     "output_type": "display_data"
    },
    {
     "data": {
      "image/png": "[encoded data removed]",
      "text/plain": [
       "<matplotlib.figure.Figure at 0x7f179f557198>"
      ]
     },
     "metadata": {
      "needs_background": "light"
     },
     "output_type": "display_data"
    },
    {
     "data": {
      "image/png": "[encoded data removed]",
      "text/plain": [
       "<matplotlib.figure.Figure at 0x7f17a0813f28>"
      ]
     },
     "metadata": {
      "needs_background": "light"
     },
     "output_type": "display_data"
    },
    {
     "data": {
      "image/png": "[encoded data removed]",
      "text/plain": [
       "<matplotlib.figure.Figure at 0x7f17a07bf4a8>"
      ]
     },
     "metadata": {
      "needs_background": "light"
     },
     "output_type": "display_data"
    }
   ],
   "source": [
    "for col in rand_col:\n",
    "    fig = plt.figure(figsize=(20, 10))\n",
    "    ax1 = fig.add_subplot(121)\n",
    "    ax1.title.set_text('Row with few missing values')\n",
    "    sns.countplot(azdias_no_nan_columns_low_nan_rows[col])\n",
    "\n",
    "    ax2 = fig.add_subplot(122)\n",
    "    ax2.title.set_text('Row with high missing values')\n",
    "    sns.countplot(azdias_no_nan_columns_high_nan_rows[col])\n",
    "\n",
    "    fig.suptitle(col)\n",
    "    plt.show();"
   ]
  },
  {
   "cell_type": "markdown",
   "metadata": {},
   "source": [
    "#### Discussion 1.1.3: Assess Missing Data in Each Row\n",
    "First of all, note that the y-axis labels are different for the two subgroups. For 'ONLINE_AFFINITAET' and 'SEMIO_MAT', the distribution of column values between the two subgroups look completely different, while the distributions look similar for the other three columns despite the huge discrepancies in scales."
   ]
  },
  {
   "cell_type": "markdown",
   "metadata": {},
   "source": [
    "### Step 1.2: Select and Re-Encode Features\n",
    "\n",
    "Checking for missing data isn't the only way in which you can prepare a dataset for analysis. Since the unsupervised learning techniques to be used will only work on data that is encoded numerically, you need to make a few encoding changes or additional assumptions to be able to make progress. In addition, while almost all of the values in the dataset are encoded using numbers, not all of them represent numeric values. Check the third column of the feature summary (`feat_info`) for a summary of types of measurement.\n",
    "- For numeric and interval data, these features can be kept without changes.\n",
    "- Most of the variables in the dataset are ordinal in nature. While ordinal values may technically be non-linear in spacing, make the simplifying assumption that the ordinal variables can be treated as being interval in nature (that is, kept without any changes).\n",
    "- Special handling may be necessary for the remaining two variable types: categorical, and 'mixed'.\n",
    "\n",
    "In the first two parts of this sub-step, you will perform an investigation of the categorical and mixed-type features and make a decision on each of them, whether you will keep, drop, or re-encode each. Then, in the last part, you will create a new data frame with only the selected and engineered columns.\n",
    "\n",
    "Data wrangling is often the trickiest part of the data analysis process, and there's a lot of it to be done here. But stick with it: once you're done with this step, you'll be ready to get to the machine learning parts of the project!"
   ]
  },
  {
   "cell_type": "code",
   "execution_count": 13,
   "metadata": {},
   "outputs": [
    {
     "data": {
      "text/plain": [
       "ordinal        49\n",
       "categorical    18\n",
       "numeric         6\n",
       "mixed           6\n",
       "Name: type, dtype: int64"
      ]
     },
     "execution_count": 13,
     "metadata": {},
     "output_type": "execute_result"
    }
   ],
   "source": [
    "# How many features are there of each data type?\n",
    "feat_info['type'].value_counts()"
   ]
  },
  {
   "cell_type": "markdown",
   "metadata": {},
   "source": [
    "#### Step 1.2.1: Re-Encode Categorical Features\n",
    "\n",
    "For categorical data, you would ordinarily need to encode the levels as dummy variables. Depending on the number of categories, perform one of the following:\n",
    "- For binary (two-level) categoricals that take numeric values, you can keep them without needing to do anything.\n",
    "- There is one binary variable that takes on non-numeric values. For this one, you need to re-encode the values as numbers or create a dummy variable.\n",
    "- For multi-level categoricals (three or more values), you can choose to encode the values using multiple dummy variables (e.g. via [OneHotEncoder](http://scikit-learn.org/stable/modules/generated/sklearn.preprocessing.OneHotEncoder.html)), or (to keep things straightforward) just drop them from the analysis. As always, document your choices in the Discussion section."
   ]
  },
  {
   "cell_type": "markdown",
   "metadata": {},
   "source": [
    "Following the instructions in Step 1.1.3, from now on we will proceed by using the dataset where the rows have few or no missing values."
   ]
  },
  {
   "cell_type": "code",
   "execution_count": 14,
   "metadata": {},
   "outputs": [],
   "source": [
    "data = azdias_low_nan_rows"
   ]
  },
  {
   "cell_type": "code",
   "execution_count": 15,
   "metadata": {},
   "outputs": [
    {
     "data": {
      "text/plain": [
       "True"
      ]
     },
     "execution_count": 15,
     "metadata": {},
     "output_type": "execute_result"
    }
   ],
   "source": [
    "# Assess categorical variables: which are binary, which are multi-level, and\n",
    "# which one needs to be re-encoded?\n",
    "cat_features = list(feat_info[feat_info['type']=='categorical']['attribute'])\n",
    "binary_features = []\n",
    "multi_features = []\n",
    "for feature in cat_features:\n",
    "    if len(data[feature].unique())==2:\n",
    "        binary_features.append(feature)\n",
    "    elif len(data[feature].unique())>2:\n",
    "        multi_features.append(feature)\n",
    "        \n",
    "len(binary_features)+len(multi_features)==len(cat_features)"
   ]
  },
  {
   "cell_type": "code",
   "execution_count": 219,
   "metadata": {},
   "outputs": [
    {
     "name": "stdout",
     "output_type": "stream",
     "text": [
      "The binary categorical features are:['ANREDE_KZ', 'GREEN_AVANTGARDE', 'SOHO_KZ', 'OST_WEST_KZ'].\n",
      "The multi-level categorical features are:['CJT_GESAMTTYP', 'FINANZTYP', 'GFK_URLAUBERTYP', 'LP_FAMILIE_FEIN', 'LP_FAMILIE_GROB', 'LP_STATUS_FEIN', 'LP_STATUS_GROB', 'NATIONALITAET_KZ', 'SHOPPER_TYP', 'VERS_TYP', 'ZABEOTYP', 'GEBAEUDETYP', 'CAMEO_DEUG_2015', 'CAMEO_DEU_2015'].\n"
     ]
    }
   ],
   "source": [
    "print('The binary categorical features are:{}.'.format(binary_features))\n",
    "print('The multi-level categorical features are:{}.'.format(multi_features))"
   ]
  },
  {
   "cell_type": "code",
   "execution_count": 17,
   "metadata": {},
   "outputs": [
    {
     "data": {
      "text/plain": [
       "array(['W', 'O'], dtype=object)"
      ]
     },
     "execution_count": 17,
     "metadata": {},
     "output_type": "execute_result"
    }
   ],
   "source": [
    "# Pick out the only binary feature that takes on non-numeric values\n",
    "for feature in binary_features:\n",
    "    if data[feature].dtype != 'O':\n",
    "        binary_features.remove(feature)\n",
    "\n",
    "data[binary_features[0]].unique()"
   ]
  },
  {
   "cell_type": "code",
   "execution_count": 18,
   "metadata": {},
   "outputs": [],
   "source": [
    "# Re-encode the values for this feature in numbers\n",
    "data[binary_features[0]].replace(['W', 'O'], [1, 0], inplace=True)"
   ]
  },
  {
   "cell_type": "code",
   "execution_count": 224,
   "metadata": {},
   "outputs": [
    {
     "name": "stdout",
     "output_type": "stream",
     "text": [
      "CJT_GESAMTTYP float64\n",
      "FINANZTYP int64\n",
      "GFK_URLAUBERTYP float64\n",
      "LP_FAMILIE_FEIN float64\n",
      "LP_FAMILIE_GROB float64\n",
      "LP_STATUS_FEIN float64\n",
      "LP_STATUS_GROB float64\n",
      "NATIONALITAET_KZ float64\n",
      "SHOPPER_TYP float64\n",
      "VERS_TYP float64\n",
      "ZABEOTYP int64\n",
      "GEBAEUDETYP float64\n",
      "CAMEO_DEUG_2015 object\n",
      "CAMEO_DEU_2015 object\n"
     ]
    }
   ],
   "source": [
    "for feature in multi_features:\n",
    "    print(feature, data[feature].dtype)"
   ]
  },
  {
   "cell_type": "code",
   "execution_count": 19,
   "metadata": {},
   "outputs": [],
   "source": [
    "# One-hot encode categorical variables with non-numeric values\n",
    "data = pd.get_dummies(data, columns=['CAMEO_DEUG_2015', 'CAMEO_DEU_2015'])"
   ]
  },
  {
   "cell_type": "markdown",
   "metadata": {},
   "source": [
    "#### Discussion 1.2.1: Re-Encode Categorical Features\n",
    "\n",
    "(Double-click this cell and replace this text with your own text, reporting your findings and decisions regarding categorical features. Which ones did you keep, which did you drop, and what engineering steps did you perform?)\n",
    "\n",
    "There was only one binary categorical variable with non-numerical values, and I re-encoded the column with 0's and 1's. Among the multi-level categorial variables, most of them are with numerical values, so I only ont-hot encoded the ones that have non-numerical values."
   ]
  },
  {
   "cell_type": "markdown",
   "metadata": {},
   "source": [
    "#### Step 1.2.2: Engineer Mixed-Type Features\n",
    "\n",
    "There are a handful of features that are marked as \"mixed\" in the feature summary that require special treatment in order to be included in the analysis. There are two in particular that deserve attention; the handling of the rest are up to your own choices:\n",
    "- \"PRAEGENDE_JUGENDJAHRE\" combines information on three dimensions: generation by decade, movement (mainstream vs. avantgarde), and nation (east vs. west). While there aren't enough levels to disentangle east from west, you should create two new variables to capture the other two dimensions: an interval-type variable for decade, and a binary variable for movement.\n",
    "- \"CAMEO_INTL_2015\" combines information on two axes: wealth and life stage. Break up the two-digit codes by their 'tens'-place and 'ones'-place digits into two new ordinal variables (which, for the purposes of this project, is equivalent to just treating them as their raw numeric values).\n",
    "- If you decide to keep or engineer new features around the other mixed-type features, make sure you note your steps in the Discussion section.\n",
    "\n",
    "Be sure to check `Data_Dictionary.md` for the details needed to finish these tasks."
   ]
  },
  {
   "cell_type": "code",
   "execution_count": 20,
   "metadata": {},
   "outputs": [
    {
     "data": {
      "text/plain": [
       "['LP_LEBENSPHASE_FEIN',\n",
       " 'LP_LEBENSPHASE_GROB',\n",
       " 'PRAEGENDE_JUGENDJAHRE',\n",
       " 'WOHNLAGE',\n",
       " 'CAMEO_INTL_2015',\n",
       " 'PLZ8_BAUMAX']"
      ]
     },
     "execution_count": 20,
     "metadata": {},
     "output_type": "execute_result"
    }
   ],
   "source": [
    "# Check which features are 'mixed'\n",
    "mixed_features = list(feat_info[feat_info['type'] == 'mixed']['attribute'])\n",
    "mixed_features"
   ]
  },
  {
   "cell_type": "code",
   "execution_count": 130,
   "metadata": {},
   "outputs": [
    {
     "data": {
      "text/html": [
       "<div>\n",
       "<style scoped>\n",
       "    .dataframe tbody tr th:only-of-type {\n",
       "        vertical-align: middle;\n",
       "    }\n",
       "\n",
       "    .dataframe tbody tr th {\n",
       "        vertical-align: top;\n",
       "    }\n",
       "\n",
       "    .dataframe thead th {\n",
       "        text-align: right;\n",
       "    }\n",
       "</style>\n",
       "<table border=\"1\" class=\"dataframe\">\n",
       "  <thead>\n",
       "    <tr style=\"text-align: right;\">\n",
       "      <th></th>\n",
       "      <th>LP_LEBENSPHASE_FEIN</th>\n",
       "      <th>LP_LEBENSPHASE_GROB</th>\n",
       "      <th>PRAEGENDE_JUGENDJAHRE</th>\n",
       "      <th>WOHNLAGE</th>\n",
       "      <th>CAMEO_INTL_2015</th>\n",
       "      <th>PLZ8_BAUMAX</th>\n",
       "    </tr>\n",
       "  </thead>\n",
       "  <tbody>\n",
       "    <tr>\n",
       "      <th>1</th>\n",
       "      <td>21.0</td>\n",
       "      <td>6.0</td>\n",
       "      <td>14.0</td>\n",
       "      <td>4.0</td>\n",
       "      <td>51</td>\n",
       "      <td>1.0</td>\n",
       "    </tr>\n",
       "    <tr>\n",
       "      <th>2</th>\n",
       "      <td>3.0</td>\n",
       "      <td>1.0</td>\n",
       "      <td>15.0</td>\n",
       "      <td>2.0</td>\n",
       "      <td>24</td>\n",
       "      <td>1.0</td>\n",
       "    </tr>\n",
       "    <tr>\n",
       "      <th>3</th>\n",
       "      <td>NaN</td>\n",
       "      <td>NaN</td>\n",
       "      <td>8.0</td>\n",
       "      <td>7.0</td>\n",
       "      <td>12</td>\n",
       "      <td>1.0</td>\n",
       "    </tr>\n",
       "    <tr>\n",
       "      <th>4</th>\n",
       "      <td>32.0</td>\n",
       "      <td>10.0</td>\n",
       "      <td>8.0</td>\n",
       "      <td>3.0</td>\n",
       "      <td>43</td>\n",
       "      <td>2.0</td>\n",
       "    </tr>\n",
       "    <tr>\n",
       "      <th>5</th>\n",
       "      <td>8.0</td>\n",
       "      <td>2.0</td>\n",
       "      <td>3.0</td>\n",
       "      <td>7.0</td>\n",
       "      <td>54</td>\n",
       "      <td>1.0</td>\n",
       "    </tr>\n",
       "  </tbody>\n",
       "</table>\n",
       "</div>"
      ],
      "text/plain": [
       "   LP_LEBENSPHASE_FEIN  LP_LEBENSPHASE_GROB  PRAEGENDE_JUGENDJAHRE  WOHNLAGE  \\\n",
       "1                 21.0                  6.0                   14.0       4.0   \n",
       "2                  3.0                  1.0                   15.0       2.0   \n",
       "3                  NaN                  NaN                    8.0       7.0   \n",
       "4                 32.0                 10.0                    8.0       3.0   \n",
       "5                  8.0                  2.0                    3.0       7.0   \n",
       "\n",
       "  CAMEO_INTL_2015  PLZ8_BAUMAX  \n",
       "1              51          1.0  \n",
       "2              24          1.0  \n",
       "3              12          1.0  \n",
       "4              43          2.0  \n",
       "5              54          1.0  "
      ]
     },
     "execution_count": 130,
     "metadata": {},
     "output_type": "execute_result"
    }
   ],
   "source": [
    "data[mixed_features].head()"
   ]
  },
  {
   "cell_type": "code",
   "execution_count": 20,
   "metadata": {},
   "outputs": [],
   "source": [
    "# Investigate \"PRAEGENDE_JUGENDJAHRE\" and engineer two new variables.\n",
    "decades = {1:1, 2:1, 3:2, 4:2, 5:3, 6:3, 7:3, 8:4, 9:4, 10:5, 11:5, 12:5, 13:5, 14:6, 15:6}\n",
    "movements = {1:1, 2:0, 3:1, 4:0, 5:1, 6:0, 7:0, 8:1, 9:0, 10:1, 11:0, 12:1, 13:0, 14:1, 15:0}\n",
    "data['DECADE'] = data['PRAEGENDE_JUGENDJAHRE'].map(decades)\n",
    "data['MOVEMENT'] = data['PRAEGENDE_JUGENDJAHRE'].map(movements)"
   ]
  },
  {
   "cell_type": "code",
   "execution_count": 21,
   "metadata": {},
   "outputs": [],
   "source": [
    "data = data.drop('PRAEGENDE_JUGENDJAHRE', axis=1)"
   ]
  },
  {
   "cell_type": "code",
   "execution_count": 22,
   "metadata": {},
   "outputs": [],
   "source": [
    "# Investigate \"CAMEO_INTL_2015\" and engineer two new variables.\n",
    "wealth = {'11':1, '12':1, '13':1, '14':1, '15':1, '21':2, '22':2, '23':2, '24':2, '25':2,\n",
    "               '31':3, '32':3, '33':3, '34':3, '35':3, '41':4, '42':4, '43':4, '44':4, '45':4,\n",
    "               '51':5, '52':5, '53':5, '54':5, '55':5}\n",
    "family = {'11':1, '12':2, '13':3, '14':4, '15':5, '21':1, '22':2, '23':3, '24':4, '25':5,\n",
    "                   '31':1, '32':2, '33':3, '34':4, '35':5, '41':1, '42':2, '43':3, '44':4, '45':5,\n",
    "                   '51':1, '52':2, '53':3, '54':4, '55':5}\n",
    "data['WEALTH'] = data['CAMEO_INTL_2015'].map(wealth)\n",
    "data['FAMILY'] = data['CAMEO_INTL_2015'].map(family)\n",
    "data = data.drop('CAMEO_INTL_2015', axis=1)"
   ]
  },
  {
   "cell_type": "code",
   "execution_count": 23,
   "metadata": {},
   "outputs": [
    {
     "name": "stdout",
     "output_type": "stream",
     "text": [
      "1.0     58722\n",
      "5.0     52400\n",
      "6.0     43334\n",
      "2.0     37148\n",
      "8.0     28837\n",
      "11.0    25369\n",
      "7.0     24950\n",
      "29.0    24880\n",
      "13.0    24811\n",
      "10.0    24469\n",
      "12.0    22275\n",
      "31.0    22261\n",
      "30.0    21147\n",
      "15.0    18966\n",
      "3.0     18756\n",
      "19.0    18586\n",
      "37.0    17500\n",
      "4.0     16478\n",
      "14.0    16354\n",
      "20.0    16287\n",
      "32.0    15763\n",
      "39.0    15132\n",
      "40.0    14108\n",
      "27.0    13800\n",
      "16.0    13633\n",
      "38.0    13099\n",
      "35.0    13011\n",
      "34.0    12422\n",
      "9.0     12111\n",
      "21.0    11966\n",
      "28.0    11543\n",
      "24.0    11309\n",
      "25.0     9849\n",
      "36.0     9656\n",
      "23.0     8628\n",
      "22.0     6831\n",
      "18.0     6805\n",
      "33.0     5724\n",
      "17.0     5487\n",
      "26.0     3368\n",
      "Name: LP_LEBENSPHASE_FEIN, dtype: int64\n",
      "2.0     149521\n",
      "1.0     131104\n",
      "3.0     109623\n",
      "12.0     69495\n",
      "4.0      51186\n",
      "5.0      47165\n",
      "9.0      46027\n",
      "10.0     38024\n",
      "11.0     31157\n",
      "8.0      28711\n",
      "6.0      27425\n",
      "7.0      21158\n",
      "Name: LP_LEBENSPHASE_GROB, dtype: int64\n",
      "3.0    249592\n",
      "7.0    169269\n",
      "4.0    135906\n",
      "2.0    100328\n",
      "5.0     74305\n",
      "1.0     43891\n",
      "8.0     17394\n",
      "0.0      6741\n",
      "Name: WOHNLAGE, dtype: int64\n",
      "1.0    499542\n",
      "5.0     97333\n",
      "2.0     70406\n",
      "4.0     56684\n",
      "3.0     50732\n",
      "Name: PLZ8_BAUMAX, dtype: int64\n"
     ]
    }
   ],
   "source": [
    "for col in ['LP_LEBENSPHASE_FEIN', 'LP_LEBENSPHASE_GROB', 'WOHNLAGE', 'PLZ8_BAUMAX']:\n",
    "    print(data[col].value_counts())"
   ]
  },
  {
   "cell_type": "code",
   "execution_count": 24,
   "metadata": {},
   "outputs": [
    {
     "data": {
      "text/plain": [
       "LP_LEBENSPHASE_FEIN    49651\n",
       "LP_LEBENSPHASE_GROB    46830\n",
       "WOHNLAGE                   0\n",
       "PLZ8_BAUMAX            22729\n",
       "dtype: int64"
      ]
     },
     "execution_count": 24,
     "metadata": {},
     "output_type": "execute_result"
    }
   ],
   "source": [
    "data[['LP_LEBENSPHASE_FEIN', 'LP_LEBENSPHASE_GROB', 'WOHNLAGE', 'PLZ8_BAUMAX']].isnull().sum()"
   ]
  },
  {
   "cell_type": "code",
   "execution_count": 25,
   "metadata": {},
   "outputs": [],
   "source": [
    "data = data.drop(['LP_LEBENSPHASE_FEIN', 'LP_LEBENSPHASE_GROB', 'PLZ8_BAUMAX'], axis=1)"
   ]
  },
  {
   "cell_type": "markdown",
   "metadata": {},
   "source": [
    "#### Discussion 1.2.2: Engineer Mixed-Type Features\n",
    "\n",
    "Following the instructions, I encoded each of 'PRAEGENDE_JUGENDJAHRE' and 'CAMEO_INTL_2015' into two new numerical variables. 'WOHNLAGE' only contains numerical values and does not have NaN values, so I decided to keep it as is. I dropped the other three mxied features."
   ]
  },
  {
   "cell_type": "markdown",
   "metadata": {},
   "source": [
    "#### Step 1.2.3: Complete Feature Selection\n",
    "\n",
    "In order to finish this step up, you need to make sure that your data frame now only has the columns that you want to keep. To summarize, the dataframe should consist of the following:\n",
    "- All numeric, interval, and ordinal type columns from the original dataset.\n",
    "- Binary categorical features (all numerically-encoded).\n",
    "- Engineered features from other multi-level categorical features and mixed features.\n",
    "\n",
    "Make sure that for any new columns that you have engineered, that you've excluded the original columns from the final dataset. Otherwise, their values will interfere with the analysis later on the project. For example, you should not keep \"PRAEGENDE_JUGENDJAHRE\", since its values won't be useful for the algorithm: only the values derived from it in the engineered features you created should be retained. As a reminder, your data should only be from **the subset with few or no missing values**."
   ]
  },
  {
   "cell_type": "code",
   "execution_count": 149,
   "metadata": {},
   "outputs": [],
   "source": [
    "# If there are other re-engineering tasks you need to perform, make sure you\n",
    "# take care of them here. (Dealing with missing data will come in step 2.1.)"
   ]
  },
  {
   "cell_type": "code",
   "execution_count": 26,
   "metadata": {},
   "outputs": [
    {
     "name": "stdout",
     "output_type": "stream",
     "text": [
      "<class 'pandas.core.frame.DataFrame'>\n",
      "Int64Index: 797426 entries, 1 to 891220\n",
      "Columns: 129 entries, ALTERSKATEGORIE_GROB to FAMILY\n",
      "dtypes: float64(51), int64(25), uint8(53)\n",
      "memory usage: 508.8 MB\n"
     ]
    }
   ],
   "source": [
    "# Do whatever you need to in order to ensure that the dataframe only contains\n",
    "# the columns that should be passed to the algorithm functions.\n",
    "\n",
    "data.info()"
   ]
  },
  {
   "cell_type": "markdown",
   "metadata": {},
   "source": [
    "### Step 1.3: Create a Cleaning Function\n",
    "\n",
    "Even though you've finished cleaning up the general population demographics data, it's important to look ahead to the future and realize that you'll need to perform the same cleaning steps on the customer demographics data. In this substep, complete the function below to execute the main feature selection, encoding, and re-engineering steps you performed above. Then, when it comes to looking at the customer data in Step 3, you can just run this function on that DataFrame to get the trimmed dataset in a single step."
   ]
  },
  {
   "cell_type": "code",
   "execution_count": 27,
   "metadata": {},
   "outputs": [],
   "source": [
    "def clean_data(df, feat_info_init):\n",
    "    \"\"\"\n",
    "    Perform feature trimming, re-encoding, and engineering for demographics\n",
    "    data\n",
    "    \n",
    "    INPUT: Demographics DataFrame\n",
    "    OUTPUT: Trimmed and cleaned demographics DataFrame\n",
    "    \"\"\"\n",
    "    # Put in code here to execute all main cleaning steps:\n",
    "    # convert missing value codes into NaNs, ...\n",
    "    for i in range(feat_info_init.shape[0]):\n",
    "        missing_values_indices = feat_info_init['missing_or_unknown'][i][1:-1].split(',')\n",
    "    for ind in missing_values_indices:\n",
    "        col_name = feat_info_init['attribute'][i]\n",
    "        if ind != 'XX' and ind != 'X' and ind != '':\n",
    "            df[col_name] = df[col_name].replace(int(ind), np.nan)\n",
    "        else: \n",
    "            df[col_name] = df[col_name].replace(ind, np.nan)\n",
    "    \n",
    "    # remove selected columns and rows, ...\n",
    "    most_missing = ['TITEL_KZ', 'AGER_TYP', 'KK_KUNDENTYP', 'KBA05_BAUMAX', 'GEBURTSJAHR', 'ALTER_HH']\n",
    "    df = df.drop(most_missing, axis=1)\n",
    "    feat_info_init = feat_info_init[~feat_info_init.attribute.isin(most_missing)]\n",
    "    \n",
    "    missing_row_values_num = df.isnull().sum(axis=1)\n",
    "    df  = df[missing_row_values_num <= 20].copy()\n",
    "    # select, re-encode, and engineer column values.\n",
    "    cat_features = list(feat_info_init[feat_info_init['type']=='categorical']['attribute'])\n",
    "    binary_features = []\n",
    "    multi_features = []\n",
    "    for feature in cat_features:\n",
    "        if len(df[feature].unique())==2:\n",
    "            binary_features.append(feature)\n",
    "        elif len(df[feature].unique())>2:\n",
    "            multi_features.append(feature)\n",
    "    df['OST_WEST_KZ'].replace(['W', 'O'], [0, 1], inplace=True)\n",
    "    df = pd.get_dummies(df, columns=['CAMEO_DEUG_2015', 'CAMEO_DEU_2015'])\n",
    "    decades = {1:1, 2:1, 3:2, 4:2, 5:3, 6:3, 7:3, 8:4, 9:4, 10:5, 11:5, 12:5, 13:5, 14:6, 15:6}\n",
    "    movements = {1:1, 2:0, 3:1, 4:0, 5:1, 6:0, 7:0, 8:1, 9:0, 10:1, 11:0, 12:1, 13:0, 14:1, 15:0}\n",
    "    df['DECADE'] = df['PRAEGENDE_JUGENDJAHRE'].map(decades)\n",
    "    df['MOVEMENT'] = df['PRAEGENDE_JUGENDJAHRE'].map(movements)\n",
    "    df = df.drop('PRAEGENDE_JUGENDJAHRE', axis=1)\n",
    "    wealth = {'11':1, '12':1, '13':1, '14':1, '15':1, '21':2, '22':2, '23':2, '24':2, '25':2,\n",
    "               '31':3, '32':3, '33':3, '34':3, '35':3, '41':4, '42':4, '43':4, '44':4, '45':4,\n",
    "               '51':5, '52':5, '53':5, '54':5, '55':5}\n",
    "    family = {'11':1, '12':2, '13':3, '14':4, '15':5, '21':1, '22':2, '23':3, '24':4, '25':5,\n",
    "                   '31':1, '32':2, '33':3, '34':4, '35':5, '41':1, '42':2, '43':3, '44':4, '45':5,\n",
    "                   '51':1, '52':2, '53':3, '54':4, '55':5}\n",
    "    df['WEALTH'] = df['CAMEO_INTL_2015'].map(wealth)\n",
    "    df['FAMILY'] = df['CAMEO_INTL_2015'].map(family)\n",
    "    df = df.drop('CAMEO_INTL_2015', axis=1)\n",
    "    df = df.drop(['LP_LEBENSPHASE_FEIN', 'LP_LEBENSPHASE_GROB', 'PLZ8_BAUMAX', 'CAMEO_DEUG_2015_X', 'CAMEO_DEU_2015_XX'], axis=1)\n",
    "    # Return the cleaned dataframe.\n",
    "    return df, feat_info_init"
   ]
  },
  {
   "cell_type": "code",
   "execution_count": 28,
   "metadata": {},
   "outputs": [
    {
     "name": "stdout",
     "output_type": "stream",
     "text": [
      "<class 'pandas.core.frame.DataFrame'>\n",
      "Int64Index: 141697 entries, 0 to 191651\n",
      "Columns: 129 entries, ALTERSKATEGORIE_GROB to FAMILY\n",
      "dtypes: float64(46), int64(30), uint8(53)\n",
      "memory usage: 90.4 MB\n"
     ]
    }
   ],
   "source": [
    "customer_df = pd.read_csv('Udacity_CUSTOMERS_Subset.csv', sep=';')\n",
    "feat_info_init = pd.read_csv('AZDIAS_Feature_Summary.csv', sep=';')\n",
    "\n",
    "customer_clean, feat_info_clean = clean_data(customer_df, feat_info_init)\n",
    "customer_clean.info()"
   ]
  },
  {
   "cell_type": "markdown",
   "metadata": {},
   "source": [
    "## Step 2: Feature Transformation\n",
    "\n",
    "### Step 2.1: Apply Feature Scaling\n",
    "\n",
    "Before we apply dimensionality reduction techniques to the data, we need to perform feature scaling so that the principal component vectors are not influenced by the natural differences in scale for features. Starting from this part of the project, you'll want to keep an eye on the [API reference page for sklearn](http://scikit-learn.org/stable/modules/classes.html) to help you navigate to all of the classes and functions that you'll need. In this substep, you'll need to check the following:\n",
    "\n",
    "- sklearn requires that data not have missing values in order for its estimators to work properly. So, before applying the scaler to your data, make sure that you've cleaned the DataFrame of the remaining missing values. This can be as simple as just removing all data points with missing data, or applying an [Imputer](https://scikit-learn.org/0.16/modules/generated/sklearn.preprocessing.Imputer.html) to replace all missing values. You might also try a more complicated procedure where you temporarily remove missing values in order to compute the scaling parameters before re-introducing those missing values and applying imputation. Think about how much missing data you have and what possible effects each approach might have on your analysis, and justify your decision in the discussion section below.\n",
    "- For the actual scaling function, a [StandardScaler](http://scikit-learn.org/stable/modules/generated/sklearn.preprocessing.StandardScaler.html) instance is suggested, scaling each feature to mean 0 and standard deviation 1.\n",
    "- For these classes, you can make use of the `.fit_transform()` method to both fit a procedure to the data as well as apply the transformation to the data at the same time. Don't forget to keep the fit sklearn objects handy, since you'll be applying them to the customer demographics data towards the end of the project."
   ]
  },
  {
   "cell_type": "code",
   "execution_count": 29,
   "metadata": {},
   "outputs": [],
   "source": [
    "# If you've not yet cleaned the dataset of all NaN values, then investigate and\n",
    "# do that now.\n",
    "from sklearn.preprocessing import Imputer\n",
    "fill_na = Imputer(strategy='most_frequent')\n",
    "data_filled = pd.DataFrame(fill_na.fit_transform(data))"
   ]
  },
  {
   "cell_type": "code",
   "execution_count": 30,
   "metadata": {},
   "outputs": [],
   "source": [
    "data_filled.columns = data.columns\n",
    "data_filled.index = data.index"
   ]
  },
  {
   "cell_type": "code",
   "execution_count": 31,
   "metadata": {},
   "outputs": [],
   "source": [
    "# Apply feature scaling to the general population demographics data.\n",
    "from sklearn.preprocessing import StandardScaler\n",
    "ss = StandardScaler() \n",
    "data_ss = ss.fit_transform(data_filled)"
   ]
  },
  {
   "cell_type": "code",
   "execution_count": 32,
   "metadata": {},
   "outputs": [],
   "source": [
    "data_ss = pd.DataFrame(data_ss, columns=list(data_filled))"
   ]
  },
  {
   "cell_type": "markdown",
   "metadata": {},
   "source": [
    "### Discussion 2.1: Apply Feature Scaling\n",
    "\n",
    "For the remaining missing values, I used the most_frequent imputer method to fill them in. I used StandardScaler for feature scaling."
   ]
  },
  {
   "cell_type": "markdown",
   "metadata": {},
   "source": [
    "### Step 2.2: Perform Dimensionality Reduction\n",
    "\n",
    "On your scaled data, you are now ready to apply dimensionality reduction techniques.\n",
    "\n",
    "- Use sklearn's [PCA](http://scikit-learn.org/stable/modules/generated/sklearn.decomposition.PCA.html) class to apply principal component analysis on the data, thus finding the vectors of maximal variance in the data. To start, you should not set any parameters (so all components are computed) or set a number of components that is at least half the number of features (so there's enough features to see the general trend in variability).\n",
    "- Check out the ratio of variance explained by each principal component as well as the cumulative variance explained. Try plotting the cumulative or sequential values using matplotlib's [`plot()`](https://matplotlib.org/api/_as_gen/matplotlib.pyplot.plot.html) function. Based on what you find, select a value for the number of transformed features you'll retain for the clustering part of the project.\n",
    "- Once you've made a choice for the number of components to keep, make sure you re-fit a PCA instance to perform the decided-on transformation."
   ]
  },
  {
   "cell_type": "code",
   "execution_count": 33,
   "metadata": {},
   "outputs": [],
   "source": [
    "# Apply PCA to the data.\n",
    "from sklearn.decomposition import PCA\n",
    "pca = PCA()\n",
    "data_pca = pca.fit_transform(data_ss)"
   ]
  },
  {
   "cell_type": "code",
   "execution_count": 35,
   "metadata": {},
   "outputs": [
    {
     "data": {
      "image/png": "[encoded data removed]",
      "text/plain": [
       "<matplotlib.figure.Figure at 0x7fe9e5f2e240>"
      ]
     },
     "metadata": {
      "needs_background": "light"
     },
     "output_type": "display_data"
    }
   ],
   "source": [
    "# Investigate the variance accounted for by each principal component.\n",
    "# The code below is taken from the 'Dimensionality Reduction and PCA' of the course with minor modifications\n",
    "def scree_plot(pca):\n",
    "\n",
    "    num_components = len(pca.explained_variance_ratio_)\n",
    "    ind = np.arange(num_components)\n",
    "    vals = pca.explained_variance_ratio_\n",
    " \n",
    "    plt.figure(figsize=(20, 10))\n",
    "    ax = plt.subplot(111)\n",
    "    cumvals = np.cumsum(vals)\n",
    "    ax.bar(ind, vals)\n",
    "    ax.plot(ind, cumvals)\n",
    " \n",
    "    ax.xaxis.set_tick_params(width=0)\n",
    "    ax.yaxis.set_tick_params(width=2, length=12)\n",
    " \n",
    "    ax.set_xlabel(\"Principal Component\")\n",
    "    ax.set_ylabel(\"Variance Explained (%)\")\n",
    "    plt.title('Explained Variance Per Principal Component')\n",
    "    \n",
    "\n",
    "scree_plot(pca)"
   ]
  },
  {
   "cell_type": "code",
   "execution_count": 34,
   "metadata": {},
   "outputs": [],
   "source": [
    "# Re-apply PCA to the data while selecting for number of components to retain.\n",
    "pca80 = PCA(n_components=80)\n",
    "data_pca80 = pca80.fit_transform(data_ss)"
   ]
  },
  {
   "cell_type": "markdown",
   "metadata": {},
   "source": [
    "### Discussion 2.2: Perform Dimensionality Reduction\n",
    "\n",
    "From the plot, it seems that choosing 80 components will explain more than 90% of the variance. This reduces the number of features to about 2/3."
   ]
  },
  {
   "cell_type": "markdown",
   "metadata": {},
   "source": [
    "### Step 2.3: Interpret Principal Components\n",
    "\n",
    "Now that we have our transformed principal components, it's a nice idea to check out the weight of each variable on the first few components to see if they can be interpreted in some fashion.\n",
    "\n",
    "As a reminder, each principal component is a unit vector that points in the direction of highest variance (after accounting for the variance captured by earlier principal components). The further a weight is from zero, the more the principal component is in the direction of the corresponding feature. If two features have large weights of the same sign (both positive or both negative), then increases in one tend expect to be associated with increases in the other. To contrast, features with different signs can be expected to show a negative correlation: increases in one variable should result in a decrease in the other.\n",
    "\n",
    "- To investigate the features, you should map each weight to their corresponding feature name, then sort the features according to weight. The most interesting features for each principal component, then, will be those at the beginning and end of the sorted list. Use the data dictionary document to help you understand these most prominent features, their relationships, and what a positive or negative value on the principal component might indicate.\n",
    "- You should investigate and interpret feature associations from the first three principal components in this substep. To help facilitate this, you should write a function that you can call at any time to print the sorted list of feature weights, for the *i*-th principal component. This might come in handy in the next step of the project, when you interpret the tendencies of the discovered clusters."
   ]
  },
  {
   "cell_type": "code",
   "execution_count": 35,
   "metadata": {},
   "outputs": [],
   "source": [
    "# Define a function that returns the weights for the ith principal component of the pca\n",
    "def pca_weights(pca, i):\n",
    "    pca_df = pd.DataFrame(pca.components_, columns=list(data_ss.columns))\n",
    "    weights = pca_df.iloc[i].sort_values(ascending=False)\n",
    "    return weights"
   ]
  },
  {
   "cell_type": "code",
   "execution_count": 45,
   "metadata": {
    "scrolled": false
   },
   "outputs": [
    {
     "data": {
      "image/png": "[encoded data removed]",
      "text/plain": [
       "<matplotlib.figure.Figure at 0x7fe9d765cb38>"
      ]
     },
     "metadata": {
      "needs_background": "light"
     },
     "output_type": "display_data"
    },
    {
     "data": {
      "image/png": "[encoded data removed]",
      "text/plain": [
       "<matplotlib.figure.Figure at 0x7fe9d75bc4e0>"
      ]
     },
     "metadata": {
      "needs_background": "light"
     },
     "output_type": "display_data"
    },
    {
     "data": {
      "image/png": "[encoded data removed]",
      "text/plain": [
       "<matplotlib.figure.Figure at 0x7fe9d7658cc0>"
      ]
     },
     "metadata": {
      "needs_background": "light"
     },
     "output_type": "display_data"
    }
   ],
   "source": [
    "# Map weights for the first principal component to corresponding feature names\n",
    "# and then print the linked values, sorted by weight.\n",
    "for i in range(3):\n",
    "    components = pca_weights(pca80, i)\n",
    "    most_weighted = pd.concat([components.head(5), components.tail(5)])\n",
    "    most_weighted.plot(kind='bar', title='10 most features for PCA component {}'.format(i), figsize=(14, 8))\n",
    "    plt.show()"
   ]
  },
  {
   "cell_type": "markdown",
   "metadata": {},
   "source": [
    "### Discussion 2.3: Interpret Principal Components\n",
    "\n",
    "For the first principal component, the top five variables are:\n",
    "- WEALTH \n",
    "- PLZ8_ANTG3 (Number of 6-10 family houses in the PLZ8 region)\n",
    "- HH_EINKOMMEN_SCORE (Estimated household net income)\n",
    "- PLZ8_ANTG4 (Number of 10+ family houses in the PLZ8 region)\n",
    "- ORTSGR_KLS9 (Size of community)\n",
    "\n",
    "We can see that the first component is mostly correlated with income and type of community.\n",
    "\n",
    "For the second principal component, the top five variables are:\n",
    "- ALTERSKATEGORIE_GROB (Estimated age)\n",
    "- FINANZ_VORSORGER (Financial typology)\n",
    "- SEMIO_ERL, SEMIO_LUST (Personality)\n",
    "- RETOURTYP_BK_S (Return type)\n",
    "\n",
    "Hence, the second component is more correlated with age, personality and financial styles (which is also correlated to personality).\n",
    "\n",
    "Lastly, for the third principal component, the top five variables are:\n",
    "SEMIO_VERT, SEMIO_SOZ, SEMIO_FAM, SEMIO_KULT (Peronality) and FINANZ_MINIMALIST (Financial typology), so this seems to be a component largely decided by personalities."
   ]
  },
  {
   "cell_type": "markdown",
   "metadata": {},
   "source": [
    "## Step 3: Clustering\n",
    "\n",
    "### Step 3.1: Apply Clustering to General Population\n",
    "\n",
    "You've assessed and cleaned the demographics data, then scaled and transformed them. Now, it's time to see how the data clusters in the principal components space. In this substep, you will apply k-means clustering to the dataset and use the average within-cluster distances from each point to their assigned cluster's centroid to decide on a number of clusters to keep.\n",
    "\n",
    "- Use sklearn's [KMeans](http://scikit-learn.org/stable/modules/generated/sklearn.cluster.KMeans.html#sklearn.cluster.KMeans) class to perform k-means clustering on the PCA-transformed data.\n",
    "- Then, compute the average difference from each point to its assigned cluster's center. **Hint**: The KMeans object's `.score()` method might be useful here, but note that in sklearn, scores tend to be defined so that larger is better. Try applying it to a small, toy dataset, or use an internet search to help your understanding.\n",
    "- Perform the above two steps for a number of different cluster counts. You can then see how the average distance decreases with an increasing number of clusters. However, each additional cluster provides a smaller net benefit. Use this fact to select a final number of clusters in which to group the data. **Warning**: because of the large size of the dataset, it can take a long time for the algorithm to resolve. The more clusters to fit, the longer the algorithm will take. You should test for cluster counts through at least 10 clusters to get the full picture, but you shouldn't need to test for a number of clusters above about 30.\n",
    "- Once you've selected a final number of clusters to use, re-fit a KMeans instance to perform the clustering operation. Make sure that you also obtain the cluster assignments for the general demographics data, since you'll be using them in the final Step 3.3."
   ]
  },
  {
   "cell_type": "code",
   "execution_count": 39,
   "metadata": {},
   "outputs": [],
   "source": [
    "# The computation on the whole data set takes very long, so we run k-means clustering on a sample of the data \n",
    "data_pca80_sample = data_pca80[np.random.choice(data_pca80.shape[0], int(data_pca80.shape[0]*0.25), replace=False)]"
   ]
  },
  {
   "cell_type": "code",
   "execution_count": 37,
   "metadata": {},
   "outputs": [],
   "source": [
    "from sklearn.cluster import KMeans"
   ]
  },
  {
   "cell_type": "code",
   "execution_count": 42,
   "metadata": {},
   "outputs": [
    {
     "name": "stdout",
     "output_type": "stream",
     "text": [
      "1 clusters gives SSE score 24212897.48664142.\n",
      "2 clusters gives SSE score 22132325.106242266.\n",
      "3 clusters gives SSE score 21253039.851734657.\n",
      "4 clusters gives SSE score 20673250.41343421.\n",
      "5 clusters gives SSE score 20322615.856954105.\n",
      "6 clusters gives SSE score 19984958.00067646.\n",
      "7 clusters gives SSE score 19663042.233134065.\n",
      "8 clusters gives SSE score 19367803.574444287.\n",
      "9 clusters gives SSE score 19100087.78892031.\n",
      "10 clusters gives SSE score 18871549.6032385.\n",
      "11 clusters gives SSE score 18729268.580902055.\n",
      "12 clusters gives SSE score 18472876.63361618.\n",
      "13 clusters gives SSE score 18299971.62610728.\n",
      "14 clusters gives SSE score 18050530.808430042.\n",
      "15 clusters gives SSE score 17977226.1874201.\n",
      "16 clusters gives SSE score 17710004.740823057.\n",
      "17 clusters gives SSE score 17460309.13888426.\n",
      "18 clusters gives SSE score 17271111.874116287.\n",
      "19 clusters gives SSE score 17079261.85427704.\n"
     ]
    }
   ],
   "source": [
    "n_cluster, scores = [], []\n",
    "for i in range(1, 20):\n",
    "    kmeans = KMeans(n_clusters = i)\n",
    "    model = kmeans.fit(data_pca80_sample)\n",
    "    score = np.abs(model.score(data_pca80_sample))\n",
    "    n_cluster.append(i)\n",
    "    scores.append(score)\n",
    "    print('{} clusters gives SSE score {}.'.format(i, score))"
   ]
  },
  {
   "cell_type": "code",
   "execution_count": 43,
   "metadata": {},
   "outputs": [
    {
     "data": {
      "text/plain": [
       "Text(0,0.5,'SSE')"
      ]
     },
     "execution_count": 43,
     "metadata": {},
     "output_type": "execute_result"
    },
    {
     "data": {
      "image/png": "[encoded data removed]",
      "text/plain": [
       "<matplotlib.figure.Figure at 0x7fe9e5ec4d30>"
      ]
     },
     "metadata": {
      "needs_background": "light"
     },
     "output_type": "display_data"
    }
   ],
   "source": [
    "# Investigate the change in within-cluster distance across number of clusters.\n",
    "# HINT: Use matplotlib's plot function to visualize this relationship.\n",
    "plt.figure(figsize=(14, 8))\n",
    "plt.plot(n_cluster, scores, linestyle='-', marker='o')\n",
    "plt.xlabel('n_clusters')\n",
    "plt.ylabel('SSE')"
   ]
  },
  {
   "cell_type": "code",
   "execution_count": 38,
   "metadata": {},
   "outputs": [],
   "source": [
    "# Re-fit the k-means model with the selected number of clusters and obtain\n",
    "# cluster predictions for the general population demographics data.\n",
    "kmeans = KMeans(n_clusters = 14)\n",
    "model = kmeans.fit(data_pca80)\n",
    "pred_gen = model.predict(data_pca80)"
   ]
  },
  {
   "cell_type": "markdown",
   "metadata": {},
   "source": [
    "### Discussion 3.1: Apply Clustering to General Population\n",
    "\n",
    "I fitted KMeans to a randomly selected sample consisting of 25% of the dataset. Unfortunately, as we can see in the SSE plot, there is no clear elbow, but the curve appears to be a sharp drop at 14 and the curve flattens a bit after that, so I have chosen 14 as the number of clusters to use. "
   ]
  },
  {
   "cell_type": "markdown",
   "metadata": {},
   "source": [
    "### Step 3.2: Apply All Steps to the Customer Data\n",
    "\n",
    "Now that you have clusters and cluster centers for the general population, it's time to see how the customer data maps on to those clusters. Take care to not confuse this for re-fitting all of the models to the customer data. Instead, you're going to use the fits from the general population to clean, transform, and cluster the customer data. In the last step of the project, you will interpret how the general population fits apply to the customer data.\n",
    "\n",
    "- Don't forget when loading in the customers data, that it is semicolon (`;`) delimited.\n",
    "- Apply the same feature wrangling, selection, and engineering steps to the customer demographics using the `clean_data()` function you created earlier. (You can assume that the customer demographics data has similar meaning behind missing data patterns as the general demographics data.)\n",
    "- Use the sklearn objects from the general demographics data, and apply their transformations to the customers data. That is, you should not be using a `.fit()` or `.fit_transform()` method to re-fit the old objects, nor should you be creating new sklearn objects! Carry the data through the feature scaling, PCA, and clustering steps, obtaining cluster assignments for all of the data in the customer demographics data."
   ]
  },
  {
   "cell_type": "markdown",
   "metadata": {},
   "source": [
    "We already applied the cleaning function to the customer data and stored the results in customer_clean."
   ]
  },
  {
   "cell_type": "code",
   "execution_count": 39,
   "metadata": {},
   "outputs": [],
   "source": [
    "# Apply preprocessing, feature transformation, and clustering from the general\n",
    "# demographics onto the customer data, obtaining cluster predictions for the\n",
    "# customer demographics data.\n",
    "# Fill in missing values\n",
    "customer_filled = pd.DataFrame(fill_na.transform(customer_clean))\n",
    "customer_filled.columns = customer_clean.columns\n",
    "customer_filled.index = customer_clean.index\n",
    "# Apply feature transformation\n",
    "customer_ss = ss.transform(customer_filled)\n",
    "customer_ss = pd.DataFrame(customer_ss, columns=list(customer_filled))\n",
    "# Apply PCA\n",
    "customer_pca = pca80.transform(customer_ss)"
   ]
  },
  {
   "cell_type": "code",
   "execution_count": 40,
   "metadata": {},
   "outputs": [],
   "source": [
    "# Obtain clustering predictions\n",
    "pred_cust = model.predict(customer_pca)"
   ]
  },
  {
   "cell_type": "markdown",
   "metadata": {},
   "source": [
    "### Step 3.3: Compare Customer Data to Demographics Data\n",
    "\n",
    "At this point, you have clustered data based on demographics of the general population of Germany, and seen how the customer data for a mail-order sales company maps onto those demographic clusters. In this final substep, you will compare the two cluster distributions to see where the strongest customer base for the company is.\n",
    "\n",
    "Consider the proportion of persons in each cluster for the general population, and the proportions for the customers. If we think the company's customer base to be universal, then the cluster assignment proportions should be fairly similar between the two. If there are only particular segments of the population that are interested in the company's products, then we should see a mismatch from one to the other. If there is a higher proportion of persons in a cluster for the customer data compared to the general population (e.g. 5% of persons are assigned to a cluster for the general population, but 15% of the customer data is closest to that cluster's centroid) then that suggests the people in that cluster to be a target audience for the company. On the other hand, the proportion of the data in a cluster being larger in the general population than the customer data (e.g. only 2% of customers closest to a population centroid that captures 6% of the data) suggests that group of persons to be outside of the target demographics.\n",
    "\n",
    "Take a look at the following points in this step:\n",
    "\n",
    "- Compute the proportion of data points in each cluster for the general population and the customer data. Visualizations will be useful here: both for the individual dataset proportions, but also to visualize the ratios in cluster representation between groups. Seaborn's [`countplot()`](https://seaborn.pydata.org/generated/seaborn.countplot.html) or [`barplot()`](https://seaborn.pydata.org/generated/seaborn.barplot.html) function could be handy.\n",
    "  - Recall the analysis you performed in step 1.1.3 of the project, where you separated out certain data points from the dataset if they had more than a specified threshold of missing values. If you found that this group was qualitatively different from the main bulk of the data, you should treat this as an additional data cluster in this analysis. Make sure that you account for the number of data points in this subset, for both the general population and customer datasets, when making your computations!\n",
    "- Which cluster or clusters are overrepresented in the customer dataset compared to the general population? Select at least one such cluster and infer what kind of people might be represented by that cluster. Use the principal component interpretations from step 2.3 or look at additional components to help you make this inference. Alternatively, you can use the `.inverse_transform()` method of the PCA and StandardScaler objects to transform centroids back to the original data space and interpret the retrieved values directly.\n",
    "- Perform a similar investigation for the underrepresented clusters. Which cluster or clusters are underrepresented in the customer dataset compared to the general population, and what kinds of people are typified by these clusters?"
   ]
  },
  {
   "cell_type": "code",
   "execution_count": 65,
   "metadata": {},
   "outputs": [
    {
     "data": {
      "image/png": "[encoded data removed]",
      "text/plain": [
       "<matplotlib.figure.Figure at 0x7fe9e149c518>"
      ]
     },
     "metadata": {
      "needs_background": "light"
     },
     "output_type": "display_data"
    }
   ],
   "source": [
    "# Compare the proportion of data in each cluster for the customer data to the\n",
    "# proportion of data in each cluster for the general population.\n",
    "# The following code is taken almost verbatim from https://knowledge.udacity.com/questions/905904\n",
    "from collections import Counter\n",
    "# generating proportion for the customer clusters.\n",
    "labels, values = zip(*Counter(pred_cust).items())\n",
    "v=list(values)\n",
    "v[:] = [x/len(pred_cust) for x in v]\n",
    "indexes = np.arange(len(labels))\n",
    "# generating proportion for the azdias clusters.\n",
    "labels1, values1 = zip(*Counter(pred_gen).items())\n",
    "v1=list(values1)\n",
    "v1[:] = [x/len(pred_gen) for x in v1]\n",
    "indexes1 = np.arange(len(labels))\n",
    "# configuring the graph\n",
    "width = .5\n",
    "plt.bar(indexes1, v1, width ,label='General')\n",
    "plt.bar(indexes+width, v, width,  color='r' , label='Customer')\n",
    "plt.xticks(indexes + width * 0.5, labels)\n",
    "plt.legend(loc='upper left')\n",
    "plt.grid()\n",
    "plt.show()"
   ]
  },
  {
   "cell_type": "markdown",
   "metadata": {},
   "source": [
    "From the above plot, we see that clusters 11, 5 and 2 are significantly overrepresented in the customer data, whereas clusters 4, 9 and 6 are prominantly underrepresented. We visualize the heaviest weights in clusters 11 and 4 below."
   ]
  },
  {
   "cell_type": "code",
   "execution_count": 41,
   "metadata": {},
   "outputs": [
    {
     "data": {
      "text/html": [
       "<div>\n",
       "<style scoped>\n",
       "    .dataframe tbody tr th:only-of-type {\n",
       "        vertical-align: middle;\n",
       "    }\n",
       "\n",
       "    .dataframe tbody tr th {\n",
       "        vertical-align: top;\n",
       "    }\n",
       "\n",
       "    .dataframe thead th {\n",
       "        text-align: right;\n",
       "    }\n",
       "</style>\n",
       "<table border=\"1\" class=\"dataframe\">\n",
       "  <thead>\n",
       "    <tr style=\"text-align: right;\">\n",
       "      <th></th>\n",
       "      <th>ALTERSKATEGORIE_GROB</th>\n",
       "      <th>ANREDE_KZ</th>\n",
       "      <th>CJT_GESAMTTYP</th>\n",
       "      <th>FINANZ_MINIMALIST</th>\n",
       "      <th>FINANZ_SPARER</th>\n",
       "      <th>FINANZ_VORSORGER</th>\n",
       "      <th>FINANZ_ANLEGER</th>\n",
       "      <th>FINANZ_UNAUFFAELLIGER</th>\n",
       "      <th>FINANZ_HAUSBAUER</th>\n",
       "      <th>FINANZTYP</th>\n",
       "      <th>...</th>\n",
       "      <th>CAMEO_DEU_2015_8D</th>\n",
       "      <th>CAMEO_DEU_2015_9A</th>\n",
       "      <th>CAMEO_DEU_2015_9B</th>\n",
       "      <th>CAMEO_DEU_2015_9C</th>\n",
       "      <th>CAMEO_DEU_2015_9D</th>\n",
       "      <th>CAMEO_DEU_2015_9E</th>\n",
       "      <th>DECADE</th>\n",
       "      <th>MOVEMENT</th>\n",
       "      <th>WEALTH</th>\n",
       "      <th>FAMILY</th>\n",
       "    </tr>\n",
       "  </thead>\n",
       "  <tbody>\n",
       "    <tr>\n",
       "      <th>0</th>\n",
       "      <td>3.324541</td>\n",
       "      <td>1.016121</td>\n",
       "      <td>6.168119</td>\n",
       "      <td>4.795974</td>\n",
       "      <td>2.206921</td>\n",
       "      <td>3.400145</td>\n",
       "      <td>2.470951</td>\n",
       "      <td>2.855397</td>\n",
       "      <td>1.473669</td>\n",
       "      <td>2.852950</td>\n",
       "      <td>...</td>\n",
       "      <td>-0.001490</td>\n",
       "      <td>-0.008657</td>\n",
       "      <td>0.000479</td>\n",
       "      <td>0.002761</td>\n",
       "      <td>-0.020143</td>\n",
       "      <td>0.001121</td>\n",
       "      <td>4.572464</td>\n",
       "      <td>1.004047</td>\n",
       "      <td>3.928248</td>\n",
       "      <td>3.016975</td>\n",
       "    </tr>\n",
       "    <tr>\n",
       "      <th>1</th>\n",
       "      <td>4.231337</td>\n",
       "      <td>1.202327</td>\n",
       "      <td>5.937361</td>\n",
       "      <td>4.672908</td>\n",
       "      <td>2.329729</td>\n",
       "      <td>3.188711</td>\n",
       "      <td>2.351064</td>\n",
       "      <td>3.006354</td>\n",
       "      <td>1.732092</td>\n",
       "      <td>3.626568</td>\n",
       "      <td>...</td>\n",
       "      <td>0.002923</td>\n",
       "      <td>-0.012179</td>\n",
       "      <td>-0.008385</td>\n",
       "      <td>-0.004286</td>\n",
       "      <td>0.015189</td>\n",
       "      <td>0.001961</td>\n",
       "      <td>4.188266</td>\n",
       "      <td>0.003828</td>\n",
       "      <td>3.016196</td>\n",
       "      <td>2.993664</td>\n",
       "    </tr>\n",
       "    <tr>\n",
       "      <th>2</th>\n",
       "      <td>4.316567</td>\n",
       "      <td>1.803562</td>\n",
       "      <td>1.328671</td>\n",
       "      <td>4.339046</td>\n",
       "      <td>0.918635</td>\n",
       "      <td>4.532823</td>\n",
       "      <td>2.044657</td>\n",
       "      <td>1.613747</td>\n",
       "      <td>3.445363</td>\n",
       "      <td>2.494750</td>\n",
       "      <td>...</td>\n",
       "      <td>0.003870</td>\n",
       "      <td>0.000420</td>\n",
       "      <td>0.021206</td>\n",
       "      <td>0.002814</td>\n",
       "      <td>-0.021800</td>\n",
       "      <td>0.001881</td>\n",
       "      <td>2.617771</td>\n",
       "      <td>0.978771</td>\n",
       "      <td>3.003453</td>\n",
       "      <td>3.040460</td>\n",
       "    </tr>\n",
       "    <tr>\n",
       "      <th>3</th>\n",
       "      <td>3.034791</td>\n",
       "      <td>1.028078</td>\n",
       "      <td>2.877127</td>\n",
       "      <td>4.423870</td>\n",
       "      <td>2.036463</td>\n",
       "      <td>3.331748</td>\n",
       "      <td>1.564013</td>\n",
       "      <td>2.145097</td>\n",
       "      <td>2.467932</td>\n",
       "      <td>6.087004</td>\n",
       "      <td>...</td>\n",
       "      <td>0.003366</td>\n",
       "      <td>-0.006711</td>\n",
       "      <td>0.000279</td>\n",
       "      <td>-0.006034</td>\n",
       "      <td>0.005504</td>\n",
       "      <td>-0.000514</td>\n",
       "      <td>4.050602</td>\n",
       "      <td>-0.006317</td>\n",
       "      <td>3.919291</td>\n",
       "      <td>4.028721</td>\n",
       "    </tr>\n",
       "    <tr>\n",
       "      <th>4</th>\n",
       "      <td>3.290948</td>\n",
       "      <td>1.990039</td>\n",
       "      <td>2.244821</td>\n",
       "      <td>4.442456</td>\n",
       "      <td>0.860206</td>\n",
       "      <td>4.594960</td>\n",
       "      <td>1.775392</td>\n",
       "      <td>1.587759</td>\n",
       "      <td>3.331479</td>\n",
       "      <td>2.358312</td>\n",
       "      <td>...</td>\n",
       "      <td>0.008156</td>\n",
       "      <td>-0.001290</td>\n",
       "      <td>-0.001529</td>\n",
       "      <td>0.000342</td>\n",
       "      <td>0.002939</td>\n",
       "      <td>-0.001644</td>\n",
       "      <td>2.702825</td>\n",
       "      <td>0.037372</td>\n",
       "      <td>3.059572</td>\n",
       "      <td>2.027202</td>\n",
       "    </tr>\n",
       "  </tbody>\n",
       "</table>\n",
       "<p>5 rows × 129 columns</p>\n",
       "</div>"
      ],
      "text/plain": [
       "   ALTERSKATEGORIE_GROB  ANREDE_KZ  CJT_GESAMTTYP  FINANZ_MINIMALIST  \\\n",
       "0              3.324541   1.016121       6.168119           4.795974   \n",
       "1              4.231337   1.202327       5.937361           4.672908   \n",
       "2              4.316567   1.803562       1.328671           4.339046   \n",
       "3              3.034791   1.028078       2.877127           4.423870   \n",
       "4              3.290948   1.990039       2.244821           4.442456   \n",
       "\n",
       "   FINANZ_SPARER  FINANZ_VORSORGER  FINANZ_ANLEGER  FINANZ_UNAUFFAELLIGER  \\\n",
       "0       2.206921          3.400145        2.470951               2.855397   \n",
       "1       2.329729          3.188711        2.351064               3.006354   \n",
       "2       0.918635          4.532823        2.044657               1.613747   \n",
       "3       2.036463          3.331748        1.564013               2.145097   \n",
       "4       0.860206          4.594960        1.775392               1.587759   \n",
       "\n",
       "   FINANZ_HAUSBAUER  FINANZTYP    ...     CAMEO_DEU_2015_8D  \\\n",
       "0          1.473669   2.852950    ...             -0.001490   \n",
       "1          1.732092   3.626568    ...              0.002923   \n",
       "2          3.445363   2.494750    ...              0.003870   \n",
       "3          2.467932   6.087004    ...              0.003366   \n",
       "4          3.331479   2.358312    ...              0.008156   \n",
       "\n",
       "   CAMEO_DEU_2015_9A  CAMEO_DEU_2015_9B  CAMEO_DEU_2015_9C  CAMEO_DEU_2015_9D  \\\n",
       "0          -0.008657           0.000479           0.002761          -0.020143   \n",
       "1          -0.012179          -0.008385          -0.004286           0.015189   \n",
       "2           0.000420           0.021206           0.002814          -0.021800   \n",
       "3          -0.006711           0.000279          -0.006034           0.005504   \n",
       "4          -0.001290          -0.001529           0.000342           0.002939   \n",
       "\n",
       "   CAMEO_DEU_2015_9E    DECADE  MOVEMENT    WEALTH    FAMILY  \n",
       "0           0.001121  4.572464  1.004047  3.928248  3.016975  \n",
       "1           0.001961  4.188266  0.003828  3.016196  2.993664  \n",
       "2           0.001881  2.617771  0.978771  3.003453  3.040460  \n",
       "3          -0.000514  4.050602 -0.006317  3.919291  4.028721  \n",
       "4          -0.001644  2.702825  0.037372  3.059572  2.027202  \n",
       "\n",
       "[5 rows x 129 columns]"
      ]
     },
     "execution_count": 41,
     "metadata": {},
     "output_type": "execute_result"
    }
   ],
   "source": [
    "# What kinds of people are part of a cluster that is overrepresented in the\n",
    "# customer data compared to the general population?\n",
    "c11 = ss.inverse_transform(np.dot(customer_pca, pca80.components_))[np.where(pred_cust==11)]\n",
    "c11 = pd.DataFrame(c11, columns=list(data_filled))\n",
    "c11.head()"
   ]
  },
  {
   "cell_type": "markdown",
   "metadata": {},
   "source": [
    "Recall that in section 2.3, we identified the five most prominent features in the first principal component as: WEALTH, PLZ8_ANTG3, HH_EINKOMMEN_SCORE, PLZ8_ANTG4, ORTSGR_KLS9. Now we create the distribution plot of the prominent features based on the extracted data for cluster 11."
   ]
  },
  {
   "cell_type": "code",
   "execution_count": 44,
   "metadata": {},
   "outputs": [
    {
     "data": {
      "image/png": "[encoded data removed]",
      "text/plain": [
       "<matplotlib.figure.Figure at 0x7f5ee13a34a8>"
      ]
     },
     "metadata": {
      "needs_background": "light"
     },
     "output_type": "display_data"
    },
    {
     "data": {
      "image/png": "[encoded data removed]",
      "text/plain": [
       "<matplotlib.figure.Figure at 0x7f5ec5c9fac8>"
      ]
     },
     "metadata": {
      "needs_background": "light"
     },
     "output_type": "display_data"
    },
    {
     "data": {
      "image/png": "[encoded data removed]",
      "text/plain": [
       "<matplotlib.figure.Figure at 0x7f5ec5ca5ef0>"
      ]
     },
     "metadata": {
      "needs_background": "light"
     },
     "output_type": "display_data"
    },
    {
     "data": {
      "image/png": "[encoded data removed]",
      "text/plain": [
       "<matplotlib.figure.Figure at 0x7f5ee128dcf8>"
      ]
     },
     "metadata": {
      "needs_background": "light"
     },
     "output_type": "display_data"
    },
    {
     "data": {
      "image/png": "[encoded data removed]",
      "text/plain": [
       "<matplotlib.figure.Figure at 0x7f5f033432e8>"
      ]
     },
     "metadata": {
      "needs_background": "light"
     },
     "output_type": "display_data"
    }
   ],
   "source": [
    "for col in ['WEALTH', 'PLZ8_ANTG3', 'HH_EINKOMMEN_SCORE', 'PLZ8_ANTG4', 'ORTSGR_KLS9']:\n",
    "    c11[col].plot(kind='hist', title=col, figsize=(14, 8))\n",
    "    plt.show()"
   ]
  },
  {
   "cell_type": "code",
   "execution_count": 45,
   "metadata": {},
   "outputs": [
    {
     "data": {
      "text/html": [
       "<div>\n",
       "<style scoped>\n",
       "    .dataframe tbody tr th:only-of-type {\n",
       "        vertical-align: middle;\n",
       "    }\n",
       "\n",
       "    .dataframe tbody tr th {\n",
       "        vertical-align: top;\n",
       "    }\n",
       "\n",
       "    .dataframe thead th {\n",
       "        text-align: right;\n",
       "    }\n",
       "</style>\n",
       "<table border=\"1\" class=\"dataframe\">\n",
       "  <thead>\n",
       "    <tr style=\"text-align: right;\">\n",
       "      <th></th>\n",
       "      <th>ALTERSKATEGORIE_GROB</th>\n",
       "      <th>ANREDE_KZ</th>\n",
       "      <th>CJT_GESAMTTYP</th>\n",
       "      <th>FINANZ_MINIMALIST</th>\n",
       "      <th>FINANZ_SPARER</th>\n",
       "      <th>FINANZ_VORSORGER</th>\n",
       "      <th>FINANZ_ANLEGER</th>\n",
       "      <th>FINANZ_UNAUFFAELLIGER</th>\n",
       "      <th>FINANZ_HAUSBAUER</th>\n",
       "      <th>FINANZTYP</th>\n",
       "      <th>...</th>\n",
       "      <th>CAMEO_DEU_2015_8D</th>\n",
       "      <th>CAMEO_DEU_2015_9A</th>\n",
       "      <th>CAMEO_DEU_2015_9B</th>\n",
       "      <th>CAMEO_DEU_2015_9C</th>\n",
       "      <th>CAMEO_DEU_2015_9D</th>\n",
       "      <th>CAMEO_DEU_2015_9E</th>\n",
       "      <th>DECADE</th>\n",
       "      <th>MOVEMENT</th>\n",
       "      <th>WEALTH</th>\n",
       "      <th>FAMILY</th>\n",
       "    </tr>\n",
       "  </thead>\n",
       "  <tbody>\n",
       "    <tr>\n",
       "      <th>0</th>\n",
       "      <td>4.101053</td>\n",
       "      <td>0.938300</td>\n",
       "      <td>4.712970</td>\n",
       "      <td>5.100497</td>\n",
       "      <td>0.777211</td>\n",
       "      <td>4.572283</td>\n",
       "      <td>0.907485</td>\n",
       "      <td>1.873427</td>\n",
       "      <td>3.131488</td>\n",
       "      <td>2.839690</td>\n",
       "      <td>...</td>\n",
       "      <td>0.003712</td>\n",
       "      <td>-0.006161</td>\n",
       "      <td>-0.001442</td>\n",
       "      <td>0.001808</td>\n",
       "      <td>-0.004399</td>\n",
       "      <td>-0.000797</td>\n",
       "      <td>2.596598</td>\n",
       "      <td>-0.014335</td>\n",
       "      <td>0.973597</td>\n",
       "      <td>3.010384</td>\n",
       "    </tr>\n",
       "    <tr>\n",
       "      <th>1</th>\n",
       "      <td>2.993195</td>\n",
       "      <td>1.184923</td>\n",
       "      <td>1.293675</td>\n",
       "      <td>4.473105</td>\n",
       "      <td>1.468029</td>\n",
       "      <td>3.790397</td>\n",
       "      <td>0.913102</td>\n",
       "      <td>2.029959</td>\n",
       "      <td>2.773194</td>\n",
       "      <td>5.473223</td>\n",
       "      <td>...</td>\n",
       "      <td>0.004420</td>\n",
       "      <td>-0.003478</td>\n",
       "      <td>0.002085</td>\n",
       "      <td>-0.003521</td>\n",
       "      <td>-0.001235</td>\n",
       "      <td>0.002144</td>\n",
       "      <td>3.596283</td>\n",
       "      <td>-0.009973</td>\n",
       "      <td>0.906507</td>\n",
       "      <td>5.051062</td>\n",
       "    </tr>\n",
       "    <tr>\n",
       "      <th>2</th>\n",
       "      <td>3.085669</td>\n",
       "      <td>1.883065</td>\n",
       "      <td>4.143954</td>\n",
       "      <td>2.473944</td>\n",
       "      <td>2.741718</td>\n",
       "      <td>3.490362</td>\n",
       "      <td>3.171999</td>\n",
       "      <td>2.162690</td>\n",
       "      <td>3.597538</td>\n",
       "      <td>6.036715</td>\n",
       "      <td>...</td>\n",
       "      <td>-0.008783</td>\n",
       "      <td>0.002855</td>\n",
       "      <td>0.009539</td>\n",
       "      <td>0.001125</td>\n",
       "      <td>0.001292</td>\n",
       "      <td>-0.003244</td>\n",
       "      <td>4.643060</td>\n",
       "      <td>0.993115</td>\n",
       "      <td>1.012373</td>\n",
       "      <td>2.937046</td>\n",
       "    </tr>\n",
       "    <tr>\n",
       "      <th>3</th>\n",
       "      <td>4.092036</td>\n",
       "      <td>1.829232</td>\n",
       "      <td>2.757000</td>\n",
       "      <td>4.305293</td>\n",
       "      <td>1.045218</td>\n",
       "      <td>4.552442</td>\n",
       "      <td>1.686372</td>\n",
       "      <td>1.538138</td>\n",
       "      <td>3.490358</td>\n",
       "      <td>4.420244</td>\n",
       "      <td>...</td>\n",
       "      <td>0.006484</td>\n",
       "      <td>-0.012577</td>\n",
       "      <td>-0.009687</td>\n",
       "      <td>0.002232</td>\n",
       "      <td>0.014375</td>\n",
       "      <td>0.003831</td>\n",
       "      <td>2.929365</td>\n",
       "      <td>-0.011616</td>\n",
       "      <td>0.992934</td>\n",
       "      <td>5.003435</td>\n",
       "    </tr>\n",
       "    <tr>\n",
       "      <th>4</th>\n",
       "      <td>4.092517</td>\n",
       "      <td>1.898604</td>\n",
       "      <td>1.618109</td>\n",
       "      <td>4.706582</td>\n",
       "      <td>0.748658</td>\n",
       "      <td>4.372053</td>\n",
       "      <td>1.270292</td>\n",
       "      <td>1.705161</td>\n",
       "      <td>3.134881</td>\n",
       "      <td>3.547855</td>\n",
       "      <td>...</td>\n",
       "      <td>0.003684</td>\n",
       "      <td>-0.004627</td>\n",
       "      <td>0.013386</td>\n",
       "      <td>0.005278</td>\n",
       "      <td>0.003470</td>\n",
       "      <td>0.003757</td>\n",
       "      <td>2.678649</td>\n",
       "      <td>0.026878</td>\n",
       "      <td>1.143030</td>\n",
       "      <td>2.962861</td>\n",
       "    </tr>\n",
       "  </tbody>\n",
       "</table>\n",
       "<p>5 rows × 129 columns</p>\n",
       "</div>"
      ],
      "text/plain": [
       "   ALTERSKATEGORIE_GROB  ANREDE_KZ  CJT_GESAMTTYP  FINANZ_MINIMALIST  \\\n",
       "0              4.101053   0.938300       4.712970           5.100497   \n",
       "1              2.993195   1.184923       1.293675           4.473105   \n",
       "2              3.085669   1.883065       4.143954           2.473944   \n",
       "3              4.092036   1.829232       2.757000           4.305293   \n",
       "4              4.092517   1.898604       1.618109           4.706582   \n",
       "\n",
       "   FINANZ_SPARER  FINANZ_VORSORGER  FINANZ_ANLEGER  FINANZ_UNAUFFAELLIGER  \\\n",
       "0       0.777211          4.572283        0.907485               1.873427   \n",
       "1       1.468029          3.790397        0.913102               2.029959   \n",
       "2       2.741718          3.490362        3.171999               2.162690   \n",
       "3       1.045218          4.552442        1.686372               1.538138   \n",
       "4       0.748658          4.372053        1.270292               1.705161   \n",
       "\n",
       "   FINANZ_HAUSBAUER  FINANZTYP    ...     CAMEO_DEU_2015_8D  \\\n",
       "0          3.131488   2.839690    ...              0.003712   \n",
       "1          2.773194   5.473223    ...              0.004420   \n",
       "2          3.597538   6.036715    ...             -0.008783   \n",
       "3          3.490358   4.420244    ...              0.006484   \n",
       "4          3.134881   3.547855    ...              0.003684   \n",
       "\n",
       "   CAMEO_DEU_2015_9A  CAMEO_DEU_2015_9B  CAMEO_DEU_2015_9C  CAMEO_DEU_2015_9D  \\\n",
       "0          -0.006161          -0.001442           0.001808          -0.004399   \n",
       "1          -0.003478           0.002085          -0.003521          -0.001235   \n",
       "2           0.002855           0.009539           0.001125           0.001292   \n",
       "3          -0.012577          -0.009687           0.002232           0.014375   \n",
       "4          -0.004627           0.013386           0.005278           0.003470   \n",
       "\n",
       "   CAMEO_DEU_2015_9E    DECADE  MOVEMENT    WEALTH    FAMILY  \n",
       "0          -0.000797  2.596598 -0.014335  0.973597  3.010384  \n",
       "1           0.002144  3.596283 -0.009973  0.906507  5.051062  \n",
       "2          -0.003244  4.643060  0.993115  1.012373  2.937046  \n",
       "3           0.003831  2.929365 -0.011616  0.992934  5.003435  \n",
       "4           0.003757  2.678649  0.026878  1.143030  2.962861  \n",
       "\n",
       "[5 rows x 129 columns]"
      ]
     },
     "execution_count": 45,
     "metadata": {},
     "output_type": "execute_result"
    }
   ],
   "source": [
    "c4 = ss.inverse_transform(np.dot(customer_pca, pca80.components_))[np.where(pred_cust==4)]\n",
    "c4 = pd.DataFrame(c4, columns=list(data_filled))\n",
    "c4.head()"
   ]
  },
  {
   "cell_type": "code",
   "execution_count": 46,
   "metadata": {},
   "outputs": [
    {
     "data": {
      "image/png": "[encoded data removed]",
      "text/plain": [
       "<matplotlib.figure.Figure at 0x7f5ee12f34e0>"
      ]
     },
     "metadata": {
      "needs_background": "light"
     },
     "output_type": "display_data"
    },
    {
     "data": {
      "image/png": "[encoded data removed]",
      "text/plain": [
       "<matplotlib.figure.Figure at 0x7f5ee122f5f8>"
      ]
     },
     "metadata": {
      "needs_background": "light"
     },
     "output_type": "display_data"
    },
    {
     "data": {
      "image/png": "[encoded data removed]",
      "text/plain": [
       "<matplotlib.figure.Figure at 0x7f5ec5c24438>"
      ]
     },
     "metadata": {
      "needs_background": "light"
     },
     "output_type": "display_data"
    },
    {
     "data": {
      "image/png": "[encoded data removed]",
      "text/plain": [
       "<matplotlib.figure.Figure at 0x7f5ec5b917b8>"
      ]
     },
     "metadata": {
      "needs_background": "light"
     },
     "output_type": "display_data"
    },
    {
     "data": {
      "image/png": "[encoded data removed]",
      "text/plain": [
       "<matplotlib.figure.Figure at 0x7f5ec5b57470>"
      ]
     },
     "metadata": {
      "needs_background": "light"
     },
     "output_type": "display_data"
    }
   ],
   "source": [
    "for col in ['WEALTH', 'PLZ8_ANTG3', 'HH_EINKOMMEN_SCORE', 'PLZ8_ANTG4', 'ORTSGR_KLS9']:\n",
    "    c4[col].plot(kind='hist', title=col, figsize=(14, 8))\n",
    "    plt.show()"
   ]
  },
  {
   "cell_type": "markdown",
   "metadata": {},
   "source": [
    "### Discussion 3.3: Compare Customer Data to Demographics Data"
   ]
  },
  {
   "cell_type": "markdown",
   "metadata": {},
   "source": [
    "From the above diagrams and the data dictionary, we can see that the overrepresented cluster 11 has characteristics mainly associated with less affluent households living in 6-10 or 10+ family houses in the PLZ8 region. However, this group tends to have a higher household net income, probaby due to the fact that more people are living in the same household.\n",
    "\n",
    "On the other hand, the underrepresented cluster 4 is mainly associated with wealthy households living in 6-10 family houses, overall with a even higher household income than cluster 11. Most of them live in communities consisting of 50,001 to 100,000 inhabitants."
   ]
  },
  {
   "cell_type": "markdown",
   "metadata": {},
   "source": [
    "> Congratulations on making it this far in the project! Before you finish, make sure to check through the entire notebook from top to bottom to make sure that your analysis follows a logical flow and all of your findings are documented in **Discussion** cells. Once you've checked over all of your work, you should export the notebook as an HTML document to submit for evaluation. You can do this from the menu, navigating to **File -> Download as -> HTML (.html)**. You will submit both that document and this notebook for your project submission."
   ]
  },
  {
   "cell_type": "code",
   "execution_count": null,
   "metadata": {},
   "outputs": [],
   "source": []
  }
 ],
 "metadata": {
  "kernelspec": {
   "display_name": "Python 3",
   "language": "python",
   "name": "python3"
  },
  "language_info": {
   "codemirror_mode": {
    "name": "ipython",
    "version": 3
   },
   "file_extension": ".py",
   "mimetype": "text/x-python",
   "name": "python",
   "nbconvert_exporter": "python",
   "pygments_lexer": "ipython3",
   "version": "3.6.3"
  }
 },
 "nbformat": 4,
 "nbformat_minor": 2
}
