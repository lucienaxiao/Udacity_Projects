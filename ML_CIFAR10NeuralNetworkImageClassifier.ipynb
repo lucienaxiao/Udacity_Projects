{
 "cells": [
  {
   "cell_type": "markdown",
   "metadata": {},
   "source": [
    "# Introduction\n",
    "\n",
    "In this project, you will build a neural network of your own design to evaluate the CIFAR-10 dataset.\n",
    "\n",
    "To meet the requirements for this project, you will need to achieve an accuracy greater than 45%. \n",
    "If you want to beat Detectocorp's algorithm, you'll need to achieve an accuracy greater than 70%. \n",
    "(Beating Detectocorp's algorithm is not a requirement for passing this project, but you're encouraged to try!)\n",
    "\n",
    "Some of the benchmark results on CIFAR-10 include:\n",
    "\n",
    "78.9% Accuracy | [Deep Belief Networks; Krizhevsky, 2010](https://www.cs.toronto.edu/~kriz/conv-cifar10-aug2010.pdf)\n",
    "\n",
    "90.6% Accuracy | [Maxout Networks; Goodfellow et al., 2013](https://arxiv.org/pdf/1302.4389.pdf)\n",
    "\n",
    "96.0% Accuracy | [Wide Residual Networks; Zagoruyko et al., 2016](https://arxiv.org/pdf/1605.07146.pdf)\n",
    "\n",
    "99.0% Accuracy | [GPipe; Huang et al., 2018](https://arxiv.org/pdf/1811.06965.pdf)\n",
    "\n",
    "98.5% Accuracy | [Rethinking Recurrent Neural Networks and other Improvements for ImageClassification; Nguyen et al., 2020](https://arxiv.org/pdf/2007.15161.pdf)\n",
    "\n",
    "Research with this dataset is ongoing. Notably, many of these networks are quite large and quite expensive to train. \n",
    "\n",
    "## Imports"
   ]
  },
  {
   "cell_type": "code",
   "execution_count": 77,
   "metadata": {},
   "outputs": [],
   "source": [
    "## This cell contains the essential imports you will need – DO NOT CHANGE THE CONTENTS! ##\n",
    "import torch\n",
    "import torch.nn as nn\n",
    "import torch.nn.functional as F\n",
    "import torch.optim as optim\n",
    "import torchvision\n",
    "import torchvision.transforms as transforms\n",
    "import matplotlib.pyplot as plt\n",
    "import numpy as np"
   ]
  },
  {
   "cell_type": "markdown",
   "metadata": {},
   "source": [
    "## Load the Dataset\n",
    "\n",
    "Specify your transforms as a list first.\n",
    "The transforms module is already loaded as `transforms`.\n",
    "\n",
    "CIFAR-10 is fortunately included in the torchvision module.\n",
    "Then, you can create your dataset using the `CIFAR10` object from `torchvision.datasets` ([the documentation is available here](https://pytorch.org/docs/stable/torchvision/datasets.html#cifar)).\n",
    "Make sure to specify `download=True`! \n",
    "\n",
    "Once your dataset is created, you'll also need to define a `DataLoader` from the `torch.utils.data` module for both the train and the test set."
   ]
  },
  {
   "cell_type": "code",
   "execution_count": 78,
   "metadata": {},
   "outputs": [
    {
     "name": "stdout",
     "output_type": "stream",
     "text": [
      "Files already downloaded and verified\n",
      "Files already downloaded and verified\n"
     ]
    }
   ],
   "source": [
    "# Defining transforms\n",
    "train_transform = transforms.Compose([transforms.RandomHorizontalFlip(), \n",
    "                                transforms.RandomVerticalFlip(),\n",
    "                                transforms.ToTensor()])\n",
    "test_transform = transforms.Compose([transforms.ToTensor()])\n",
    "\n",
    "# Loading datasets\n",
    "pre_training_dataset = torchvision.datasets.CIFAR10(root='./data', download=True, train=False, transform=train_transform)\n",
    "testing_dataset = torchvision.datasets.CIFAR10(root='./data', download=True, train=False, transform=test_transform)\n",
    "\n",
    "# Splitting the training dataset into training and validation datasets 80-20 split \n",
    "length_pre_training_dataset = len(pre_training_dataset)\n",
    "training_dataset_size = int(0.8 * length_pre_training_dataset)\n",
    "validation_dataset_size = length_pre_training_dataset - training_dataset_size\n",
    "\n",
    "training_dataset, validation_dataset = torch.utils.data.dataset.random_split(pre_training_dataset, [training_dataset_size, validation_dataset_size])\n",
    "\n",
    "# dataloaders\n",
    "training_dataloader = torch.utils.data.DataLoader(training_dataset, batch_size=32, shuffle=True)\n",
    "validation_dataloader = torch.utils.data.DataLoader(validation_dataset, batch_size=32)\n",
    "testing_dataloader = torch.utils.data.DataLoader(testing_dataset, batch_size=32)\n",
    "\n",
    "# The 10 classes in the dataset\n",
    "classes = ('plane', 'car', 'bird', 'cat', 'deer', 'dog', 'frog', 'horse', 'ship', 'truck')"
   ]
  },
  {
   "cell_type": "markdown",
   "metadata": {},
   "source": [
    "## Explore the Dataset\n",
    "Using matplotlib, numpy, and torch, explore the dimensions of your data.\n",
    "\n",
    "You can view images using the `show5` function defined below – it takes a data loader as an argument.\n",
    "Remember that normalized images will look really weird to you! You may want to try changing your transforms to view images.\n",
    "Typically using no transforms other than `toTensor()` works well for viewing – but not as well for training your network.\n",
    "If `show5` doesn't work, go back and check your code for creating your data loaders and your training/test sets."
   ]
  },
  {
   "cell_type": "code",
   "execution_count": 16,
   "metadata": {},
   "outputs": [],
   "source": [
    "def show5(img_loader):\n",
    "    dataiter = iter(img_loader)\n",
    "    \n",
    "    batch = next(dataiter)\n",
    "    labels = batch[1][0:5]\n",
    "    images = batch[0][0:5]\n",
    "    for i in range(5):\n",
    "        print(classes[labels[i]])\n",
    "    \n",
    "        image = images[i].numpy()\n",
    "        plt.imshow(np.rot90(image.T, k=3))\n",
    "        plt.show()"
   ]
  },
  {
   "cell_type": "code",
   "execution_count": 15,
   "metadata": {},
   "outputs": [
    {
     "data": {
      "text/plain": [
       "(2, 2)"
      ]
     },
     "execution_count": 15,
     "metadata": {},
     "output_type": "execute_result"
    }
   ],
   "source": [
    "#Check size of data\n",
    "len(training_dataset[1]), len(testing_dataset[2])"
   ]
  },
  {
   "cell_type": "code",
   "execution_count": 17,
   "metadata": {},
   "outputs": [
    {
     "data": {
      "text/plain": [
       "tensor([[[ 0.0980,  0.0667,  0.0275,  ...,  0.1412,  0.1176,  0.0863],\n",
       "         [ 0.1373,  0.1255,  0.0392,  ...,  0.1216,  0.1137,  0.1020],\n",
       "         [ 0.1529,  0.0745,  0.0196,  ...,  0.1451,  0.1216,  0.1255],\n",
       "         ...,\n",
       "         [ 0.7255,  0.7373,  0.7608,  ...,  0.6000,  0.5765,  0.5804],\n",
       "         [ 0.8039,  0.8078,  0.8235,  ...,  0.6314,  0.6000,  0.5686],\n",
       "         [ 0.8353,  0.8392,  0.8549,  ...,  0.7020,  0.6706,  0.6353]],\n",
       "\n",
       "        [[ 0.1686,  0.1216,  0.0471,  ...,  0.2353,  0.1922,  0.1412],\n",
       "         [ 0.2118,  0.1725,  0.0431,  ...,  0.2196,  0.2000,  0.1765],\n",
       "         [ 0.2196,  0.1216,  0.0235,  ...,  0.2392,  0.2118,  0.2039],\n",
       "         ...,\n",
       "         [ 0.7882,  0.8039,  0.8275,  ...,  0.7294,  0.7137,  0.7255],\n",
       "         [ 0.8627,  0.8667,  0.8824,  ...,  0.7569,  0.7333,  0.7098],\n",
       "         [ 0.8863,  0.8902,  0.9059,  ...,  0.8118,  0.7882,  0.7608]],\n",
       "\n",
       "        [[ 0.2353,  0.1922,  0.1020,  ...,  0.3294,  0.2863,  0.2392],\n",
       "         [ 0.2706,  0.2353,  0.0863,  ...,  0.3137,  0.2941,  0.2745],\n",
       "         [ 0.2745,  0.1647,  0.0431,  ...,  0.3373,  0.3059,  0.3059],\n",
       "         ...,\n",
       "         [ 0.8157,  0.8196,  0.8353,  ...,  0.7922,  0.7882,  0.8039],\n",
       "         [ 0.8706,  0.8627,  0.8706,  ...,  0.8157,  0.8039,  0.7843],\n",
       "         [ 0.8824,  0.8745,  0.8824,  ...,  0.8588,  0.8431,  0.8275]]])"
      ]
     },
     "execution_count": 17,
     "metadata": {},
     "output_type": "execute_result"
    }
   ],
   "source": [
    "image, label = training_dataset[0]\n",
    "image"
   ]
  },
  {
   "cell_type": "code",
   "execution_count": 18,
   "metadata": {},
   "outputs": [
    {
     "name": "stdout",
     "output_type": "stream",
     "text": [
      "deer\n"
     ]
    },
    {
     "data": {
      "image/png": "[encoded data removed]",
      "text/plain": [
       "<matplotlib.figure.Figure at 0x7fdf719a9cc0>"
      ]
     },
     "metadata": {
      "needs_background": "light"
     },
     "output_type": "display_data"
    },
    {
     "name": "stdout",
     "output_type": "stream",
     "text": [
      "horse\n"
     ]
    },
    {
     "data": {
      "image/png": "[encoded data removed]",
      "text/plain": [
       "<matplotlib.figure.Figure at 0x7fdf718b40f0>"
      ]
     },
     "metadata": {
      "needs_background": "light"
     },
     "output_type": "display_data"
    },
    {
     "name": "stdout",
     "output_type": "stream",
     "text": [
      "truck\n"
     ]
    },
    {
     "data": {
      "image/png": "[encoded data removed]",
      "text/plain": [
       "<matplotlib.figure.Figure at 0x7fdf71b5e4a8>"
      ]
     },
     "metadata": {
      "needs_background": "light"
     },
     "output_type": "display_data"
    },
    {
     "name": "stdout",
     "output_type": "stream",
     "text": [
      "plane\n"
     ]
    },
    {
     "data": {
      "image/png": "[encoded data removed]",
      "text/plain": [
       "<matplotlib.figure.Figure at 0x7fdf71b3ddd8>"
      ]
     },
     "metadata": {
      "needs_background": "light"
     },
     "output_type": "display_data"
    },
    {
     "name": "stdout",
     "output_type": "stream",
     "text": [
      "ship\n"
     ]
    },
    {
     "data": {
      "image/png": "[encoded data removed]",
      "text/plain": [
       "<matplotlib.figure.Figure at 0x7fdf71b80550>"
      ]
     },
     "metadata": {
      "needs_background": "light"
     },
     "output_type": "display_data"
    }
   ],
   "source": [
    "show5(training_dataloader)"
   ]
  },
  {
   "cell_type": "markdown",
   "metadata": {},
   "source": [
    "## Build your Neural Network\n",
    "Using the layers in `torch.nn` (which has been imported as `nn`) and the `torch.nn.functional` module (imported as `F`), construct a neural network based on the parameters of the dataset. \n",
    "Feel free to construct a model of any architecture – feedforward, convolutional, or even something more advanced!"
   ]
  },
  {
   "cell_type": "code",
   "execution_count": 96,
   "metadata": {},
   "outputs": [],
   "source": [
    "#check?\n",
    "class Classifier(nn.Module):\n",
    "    def __init__(self):\n",
    "        super(Classifier, self).__init__()\n",
    "        #convolutional layers\n",
    "        self.conv1 = nn.Conv2d(3, 16, 3, padding=1)\n",
    "        self.conv2 = nn.Conv2d(16, 32, 3, padding=1)\n",
    "        self.conv3 = nn.Conv2d(32, 64, 3, padding=1)\n",
    "        #pooling layer\n",
    "        self.pool = nn.MaxPool2d(2, 2)\n",
    "        #linear layers\n",
    "        self.fc1 = nn.Linear(64 * 4 * 4, 256)\n",
    "        self.fc2 = nn.Linear(256, 10)\n",
    "        #dropout layer\n",
    "        self.dropout = nn.Dropout(0.15)\n",
    "        \n",
    "    def forward(self, x):\n",
    "        x = self.pool(F.relu(self.conv1(x)))\n",
    "        x = self.pool(F.relu(self.conv2(x)))\n",
    "        x = self.pool(F.relu(self.conv3(x)))\n",
    "        x = x.view(-1, 64 * 4 * 4)\n",
    "        x = self.dropout(x)\n",
    "        x = F.relu(self.fc1(x))\n",
    "        x = F.log_softmax(self.fc2(x), dim=1)\n",
    "        \n",
    "        return x"
   ]
  },
  {
   "cell_type": "markdown",
   "metadata": {},
   "source": [
    "Specify a loss function and an optimizer, and instantiate the model.\n",
    "\n",
    "If you use a less common loss function, please note why you chose that loss function in a comment."
   ]
  },
  {
   "cell_type": "code",
   "execution_count": 98,
   "metadata": {},
   "outputs": [],
   "source": [
    "model = Classifier()\n",
    "criterion = nn.CrossEntropyLoss()\n",
    "optimizer = optim.SGD(model.parameters(), lr=0.07)"
   ]
  },
  {
   "cell_type": "markdown",
   "metadata": {},
   "source": [
    "## Running your Neural Network\n",
    "Use whatever method you like to train your neural network, and ensure you record the average loss at each epoch. \n",
    "Don't forget to use `torch.device()` and the `.to()` method for both your model and your data if you are using GPU!\n",
    "\n",
    "If you want to print your loss during each epoch, you can use the `enumerate` function and print the loss after a set number of batches. 250 batches works well for most people!"
   ]
  },
  {
   "cell_type": "code",
   "execution_count": 21,
   "metadata": {},
   "outputs": [
    {
     "data": {
      "text/plain": [
       "True"
      ]
     },
     "execution_count": 21,
     "metadata": {},
     "output_type": "execute_result"
    }
   ],
   "source": [
    "torch.cuda.is_available()"
   ]
  },
  {
   "cell_type": "code",
   "execution_count": 99,
   "metadata": {},
   "outputs": [
    {
     "name": "stdout",
     "output_type": "stream",
     "text": [
      "Epoch: 1/40..  Training Loss: 2.298..  Test Loss: 2.272..  Test Accuracy: 0.172\n",
      "Epoch: 2/40..  Training Loss: 2.189..  Test Loss: 2.115..  Test Accuracy: 0.222\n",
      "Epoch: 3/40..  Training Loss: 2.065..  Test Loss: 1.980..  Test Accuracy: 0.260\n",
      "Epoch: 4/40..  Training Loss: 1.975..  Test Loss: 1.867..  Test Accuracy: 0.329\n",
      "Epoch: 5/40..  Training Loss: 1.888..  Test Loss: 1.906..  Test Accuracy: 0.332\n",
      "Epoch: 6/40..  Training Loss: 1.805..  Test Loss: 1.746..  Test Accuracy: 0.363\n",
      "Epoch: 7/40..  Training Loss: 1.724..  Test Loss: 1.671..  Test Accuracy: 0.404\n",
      "Epoch: 8/40..  Training Loss: 1.651..  Test Loss: 1.618..  Test Accuracy: 0.401\n",
      "Epoch: 9/40..  Training Loss: 1.598..  Test Loss: 1.544..  Test Accuracy: 0.424\n",
      "Epoch: 10/40..  Training Loss: 1.535..  Test Loss: 1.636..  Test Accuracy: 0.420\n",
      "Epoch: 11/40..  Training Loss: 1.496..  Test Loss: 1.535..  Test Accuracy: 0.433\n",
      "Epoch: 12/40..  Training Loss: 1.446..  Test Loss: 1.512..  Test Accuracy: 0.447\n",
      "Epoch: 13/40..  Training Loss: 1.409..  Test Loss: 1.565..  Test Accuracy: 0.458\n",
      "Epoch: 14/40..  Training Loss: 1.384..  Test Loss: 1.403..  Test Accuracy: 0.488\n",
      "Epoch: 15/40..  Training Loss: 1.344..  Test Loss: 1.432..  Test Accuracy: 0.482\n",
      "Epoch: 16/40..  Training Loss: 1.313..  Test Loss: 1.372..  Test Accuracy: 0.497\n",
      "Epoch: 17/40..  Training Loss: 1.294..  Test Loss: 1.368..  Test Accuracy: 0.508\n",
      "Epoch: 18/40..  Training Loss: 1.263..  Test Loss: 1.376..  Test Accuracy: 0.490\n",
      "Epoch: 19/40..  Training Loss: 1.216..  Test Loss: 1.341..  Test Accuracy: 0.519\n",
      "Epoch: 20/40..  Training Loss: 1.206..  Test Loss: 1.304..  Test Accuracy: 0.533\n",
      "Epoch: 21/40..  Training Loss: 1.178..  Test Loss: 1.381..  Test Accuracy: 0.508\n",
      "Epoch: 22/40..  Training Loss: 1.143..  Test Loss: 1.373..  Test Accuracy: 0.520\n",
      "Epoch: 23/40..  Training Loss: 1.125..  Test Loss: 1.286..  Test Accuracy: 0.527\n",
      "Epoch: 24/40..  Training Loss: 1.091..  Test Loss: 1.311..  Test Accuracy: 0.516\n",
      "Epoch: 25/40..  Training Loss: 1.074..  Test Loss: 1.260..  Test Accuracy: 0.561\n",
      "Epoch: 26/40..  Training Loss: 1.047..  Test Loss: 1.337..  Test Accuracy: 0.530\n",
      "Epoch: 27/40..  Training Loss: 1.023..  Test Loss: 1.264..  Test Accuracy: 0.546\n",
      "Epoch: 28/40..  Training Loss: 0.994..  Test Loss: 1.316..  Test Accuracy: 0.548\n",
      "Epoch: 29/40..  Training Loss: 0.982..  Test Loss: 1.244..  Test Accuracy: 0.565\n",
      "Epoch: 30/40..  Training Loss: 0.942..  Test Loss: 1.221..  Test Accuracy: 0.556\n",
      "Epoch: 31/40..  Training Loss: 0.934..  Test Loss: 1.297..  Test Accuracy: 0.548\n",
      "Epoch: 32/40..  Training Loss: 0.905..  Test Loss: 1.348..  Test Accuracy: 0.547\n",
      "Epoch: 33/40..  Training Loss: 0.905..  Test Loss: 1.310..  Test Accuracy: 0.554\n",
      "Epoch: 34/40..  Training Loss: 0.875..  Test Loss: 1.293..  Test Accuracy: 0.550\n",
      "Epoch: 35/40..  Training Loss: 0.850..  Test Loss: 1.282..  Test Accuracy: 0.555\n",
      "Epoch: 36/40..  Training Loss: 0.810..  Test Loss: 1.299..  Test Accuracy: 0.573\n",
      "Epoch: 37/40..  Training Loss: 0.800..  Test Loss: 1.362..  Test Accuracy: 0.556\n",
      "Epoch: 38/40..  Training Loss: 0.803..  Test Loss: 1.288..  Test Accuracy: 0.560\n",
      "Epoch: 39/40..  Training Loss: 0.773..  Test Loss: 1.311..  Test Accuracy: 0.566\n",
      "Epoch: 40/40..  Training Loss: 0.752..  Test Loss: 1.395..  Test Accuracy: 0.563\n"
     ]
    }
   ],
   "source": [
    "epochs = 40\n",
    "steps = 0\n",
    "model.to('cuda')\n",
    "\n",
    "train_losses, test_losses = [], []\n",
    "for e in range(epochs):\n",
    "    running_loss = 0\n",
    "    for images, labels in training_dataloader:\n",
    "        images, labels = images.to('cuda'), labels.to('cuda')\n",
    "        optimizer.zero_grad()\n",
    "        log_ps = model(images)\n",
    "        loss = criterion(log_ps, labels)\n",
    "        loss.backward()\n",
    "        optimizer.step()\n",
    "        running_loss += loss.item()\n",
    "        \n",
    "    else:\n",
    "        test_loss = 0\n",
    "        accuracy = 0\n",
    "        \n",
    "        with torch.no_grad():\n",
    "            for images, labels in validation_dataloader:\n",
    "                images, labels = images.to('cuda'), labels.to('cuda')\n",
    "                log_ps = model(images)\n",
    "                test_loss += criterion(log_ps, labels)\n",
    "                \n",
    "                ps = torch.exp(log_ps)\n",
    "                top_p, top_class = ps.topk(1, dim=1)\n",
    "                equals = top_class == labels.view(*top_class.shape)\n",
    "                accuracy += torch.mean(equals.type(torch.FloatTensor))\n",
    "                \n",
    "        train_losses.append(running_loss/len(training_dataloader))\n",
    "        test_losses.append(test_loss/len(validation_dataloader))\n",
    "\n",
    "        print(\"Epoch: {}/{}.. \".format(e+1, epochs),\n",
    "              \"Training Loss: {:.3f}.. \".format(running_loss/len(training_dataloader)),\n",
    "              \"Test Loss: {:.3f}.. \".format(test_loss/len(validation_dataloader)),\n",
    "              \"Test Accuracy: {:.3f}\".format(accuracy/len(validation_dataloader)))"
   ]
  },
  {
   "cell_type": "markdown",
   "metadata": {},
   "source": [
    "Plot the training loss (and validation loss/accuracy, if recorded)."
   ]
  },
  {
   "cell_type": "code",
   "execution_count": 100,
   "metadata": {},
   "outputs": [
    {
     "data": {
      "text/plain": [
       "<matplotlib.legend.Legend at 0x7fdf5db66ac8>"
      ]
     },
     "execution_count": 100,
     "metadata": {},
     "output_type": "execute_result"
    },
    {
     "data": {
      "image/png": "[encoded data removed]",
      "text/plain": [
       "<matplotlib.figure.Figure at 0x7fdf7c2a6668>"
      ]
     },
     "metadata": {
      "image/png": {
       "height": 250,
       "width": 373
      },
      "needs_background": "light"
     },
     "output_type": "display_data"
    }
   ],
   "source": [
    "%matplotlib inline\n",
    "%config InlineBackend.figure_format = 'retina'\n",
    "\n",
    "import matplotlib.pyplot as plt\n",
    "plt.plot(train_losses, label='Training loss')\n",
    "plt.plot(test_losses, label='Validation loss')\n",
    "plt.legend(frameon=False)"
   ]
  },
  {
   "cell_type": "markdown",
   "metadata": {},
   "source": [
    "## Testing your model\n",
    "Using the previously created `DataLoader` for the test set, compute the percentage of correct predictions using the highest probability prediction. \n",
    "\n",
    "If your accuracy is over 70%, great work! \n",
    "This is a hard task to exceed 70% on.\n",
    "\n",
    "If your accuracy is under 45%, you'll need to make improvements.\n",
    "Go back and check your model architecture, loss function, and optimizer to make sure they're appropriate for an image classification task."
   ]
  },
  {
   "cell_type": "code",
   "execution_count": 101,
   "metadata": {},
   "outputs": [
    {
     "name": "stdout",
     "output_type": "stream",
     "text": [
      "Accuracy: 74 %\n"
     ]
    }
   ],
   "source": [
    "total = 0\n",
    "correct = 0\n",
    "model.eval() \n",
    "with torch.no_grad():\n",
    "    for images, labels in testing_dataloader:\n",
    "        images, labels = images.to('cuda'), labels.to('cuda')\n",
    "        outputs = model(images)\n",
    "        _, predicted = torch.max(outputs.data, 1)\n",
    "        total += labels.size(0)\n",
    "        correct += (predicted == labels).sum().item()\n",
    "print('Accuracy: %d %%' % (100 * correct / total))"
   ]
  },
  {
   "cell_type": "markdown",
   "metadata": {},
   "source": [
    "## Saving your model\n",
    "Using `torch.save`, save your model for future loading."
   ]
  },
  {
   "cell_type": "code",
   "execution_count": 135,
   "metadata": {},
   "outputs": [],
   "source": [
    "torch.save(model.state_dict(), 'checkpoint.pth')"
   ]
  },
  {
   "cell_type": "markdown",
   "metadata": {},
   "source": [
    "## Make a Recommendation\n",
    "\n",
    "Based on your evaluation, what is your recommendation on whether to build or buy? Explain your reasoning below."
   ]
  },
  {
   "cell_type": "markdown",
   "metadata": {},
   "source": [
    "My model has accuracy 74%, better than Detectocorp's model but much worse than the advanced solutions in the literature. Therefore I would recommend building our company's model. I adjusted the number of linear layers, used a different loss function and optimizer, and adjusted the learning rate to improve accuracy. I also increased the number of epoches, but this starts to result in overfitting starting around 30-35 epoches."
   ]
  },
  {
   "cell_type": "markdown",
   "metadata": {},
   "source": [
    "## Submit Your Project\n",
    "\n",
    "When you are finished editing the notebook and are ready to turn it in, simply click the **SUBMIT PROJECT** button in the lower right.\n",
    "\n",
    "Once you submit your project, we'll review your work and give you feedback if there's anything that you need to work on. If you'd like to see the exact points that your reviewer will check for when looking at your work, you can have a look over the project [rubric](https://review.udacity.com/#!/rubrics/3077/view)."
   ]
  }
 ],
 "metadata": {
  "kernelspec": {
   "display_name": "Python 3",
   "language": "python",
   "name": "python3"
  },
  "language_info": {
   "codemirror_mode": {
    "name": "ipython",
    "version": 3
   },
   "file_extension": ".py",
   "mimetype": "text/x-python",
   "name": "python",
   "nbconvert_exporter": "python",
   "pygments_lexer": "ipython3",
   "version": "3.6.3"
  }
 },
 "nbformat": 4,
 "nbformat_minor": 4
}
